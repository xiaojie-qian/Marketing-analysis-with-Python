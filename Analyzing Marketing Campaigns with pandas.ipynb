{
 "cells": [
  {
   "cell_type": "markdown",
   "id": "d18cae29",
   "metadata": {},
   "source": [
    "# Objectives\n",
    "- Clean data and initial exploratory \n",
    "- Key metrics analysis: converstion rate and retention rate\n",
    "  - def function to access both metrics \n",
    "- Inconsistence checking and resolving \n",
    "  - if the difference has impact on conversion rate by using assumption\n",
    "- A/B test, lift and statistical significance"
   ]
  },
  {
   "cell_type": "code",
   "execution_count": 1,
   "id": "1336c481",
   "metadata": {},
   "outputs": [],
   "source": [
    "import numpy as np\n",
    "import pandas as pd\n",
    "import matplotlib.pyplot as plt"
   ]
  },
  {
   "cell_type": "code",
   "execution_count": 2,
   "id": "663d553a",
   "metadata": {},
   "outputs": [
    {
     "data": {
      "text/html": [
       "<div>\n",
       "<style scoped>\n",
       "    .dataframe tbody tr th:only-of-type {\n",
       "        vertical-align: middle;\n",
       "    }\n",
       "\n",
       "    .dataframe tbody tr th {\n",
       "        vertical-align: top;\n",
       "    }\n",
       "\n",
       "    .dataframe thead th {\n",
       "        text-align: right;\n",
       "    }\n",
       "</style>\n",
       "<table border=\"1\" class=\"dataframe\">\n",
       "  <thead>\n",
       "    <tr style=\"text-align: right;\">\n",
       "      <th></th>\n",
       "      <th>user_id</th>\n",
       "      <th>date_served</th>\n",
       "      <th>marketing_channel</th>\n",
       "      <th>variant</th>\n",
       "      <th>converted</th>\n",
       "      <th>language_displayed</th>\n",
       "      <th>language_preferred</th>\n",
       "      <th>age_group</th>\n",
       "      <th>date_subscribed</th>\n",
       "      <th>date_canceled</th>\n",
       "      <th>subscribing_channel</th>\n",
       "      <th>is_retained</th>\n",
       "      <th>is_house_ad</th>\n",
       "      <th>channel_code</th>\n",
       "      <th>day_served</th>\n",
       "    </tr>\n",
       "  </thead>\n",
       "  <tbody>\n",
       "    <tr>\n",
       "      <th>0</th>\n",
       "      <td>a100000029</td>\n",
       "      <td>2018-01-01</td>\n",
       "      <td>House Ads</td>\n",
       "      <td>personalization</td>\n",
       "      <td>True</td>\n",
       "      <td>English</td>\n",
       "      <td>English</td>\n",
       "      <td>0-18 years</td>\n",
       "      <td>2018-01-01</td>\n",
       "      <td>NaT</td>\n",
       "      <td>House Ads</td>\n",
       "      <td>True</td>\n",
       "      <td>True</td>\n",
       "      <td>1.0</td>\n",
       "      <td>0.0</td>\n",
       "    </tr>\n",
       "    <tr>\n",
       "      <th>1</th>\n",
       "      <td>a100000030</td>\n",
       "      <td>2018-01-01</td>\n",
       "      <td>House Ads</td>\n",
       "      <td>personalization</td>\n",
       "      <td>True</td>\n",
       "      <td>English</td>\n",
       "      <td>English</td>\n",
       "      <td>19-24 years</td>\n",
       "      <td>2018-01-01</td>\n",
       "      <td>NaT</td>\n",
       "      <td>House Ads</td>\n",
       "      <td>True</td>\n",
       "      <td>True</td>\n",
       "      <td>1.0</td>\n",
       "      <td>0.0</td>\n",
       "    </tr>\n",
       "    <tr>\n",
       "      <th>2</th>\n",
       "      <td>a100000031</td>\n",
       "      <td>2018-01-01</td>\n",
       "      <td>House Ads</td>\n",
       "      <td>personalization</td>\n",
       "      <td>True</td>\n",
       "      <td>English</td>\n",
       "      <td>English</td>\n",
       "      <td>24-30 years</td>\n",
       "      <td>2018-01-01</td>\n",
       "      <td>NaT</td>\n",
       "      <td>House Ads</td>\n",
       "      <td>True</td>\n",
       "      <td>True</td>\n",
       "      <td>1.0</td>\n",
       "      <td>0.0</td>\n",
       "    </tr>\n",
       "    <tr>\n",
       "      <th>3</th>\n",
       "      <td>a100000032</td>\n",
       "      <td>2018-01-01</td>\n",
       "      <td>House Ads</td>\n",
       "      <td>personalization</td>\n",
       "      <td>True</td>\n",
       "      <td>English</td>\n",
       "      <td>English</td>\n",
       "      <td>30-36 years</td>\n",
       "      <td>2018-01-01</td>\n",
       "      <td>NaT</td>\n",
       "      <td>House Ads</td>\n",
       "      <td>True</td>\n",
       "      <td>True</td>\n",
       "      <td>1.0</td>\n",
       "      <td>0.0</td>\n",
       "    </tr>\n",
       "    <tr>\n",
       "      <th>4</th>\n",
       "      <td>a100000033</td>\n",
       "      <td>2018-01-01</td>\n",
       "      <td>House Ads</td>\n",
       "      <td>personalization</td>\n",
       "      <td>True</td>\n",
       "      <td>English</td>\n",
       "      <td>English</td>\n",
       "      <td>36-45 years</td>\n",
       "      <td>2018-01-01</td>\n",
       "      <td>NaT</td>\n",
       "      <td>House Ads</td>\n",
       "      <td>True</td>\n",
       "      <td>True</td>\n",
       "      <td>1.0</td>\n",
       "      <td>0.0</td>\n",
       "    </tr>\n",
       "  </tbody>\n",
       "</table>\n",
       "</div>"
      ],
      "text/plain": [
       "      user_id date_served marketing_channel          variant  converted  \\\n",
       "0  a100000029  2018-01-01         House Ads  personalization       True   \n",
       "1  a100000030  2018-01-01         House Ads  personalization       True   \n",
       "2  a100000031  2018-01-01         House Ads  personalization       True   \n",
       "3  a100000032  2018-01-01         House Ads  personalization       True   \n",
       "4  a100000033  2018-01-01         House Ads  personalization       True   \n",
       "\n",
       "  language_displayed language_preferred    age_group date_subscribed  \\\n",
       "0            English            English   0-18 years      2018-01-01   \n",
       "1            English            English  19-24 years      2018-01-01   \n",
       "2            English            English  24-30 years      2018-01-01   \n",
       "3            English            English  30-36 years      2018-01-01   \n",
       "4            English            English  36-45 years      2018-01-01   \n",
       "\n",
       "  date_canceled subscribing_channel  is_retained  is_house_ad  channel_code  \\\n",
       "0           NaT           House Ads         True         True           1.0   \n",
       "1           NaT           House Ads         True         True           1.0   \n",
       "2           NaT           House Ads         True         True           1.0   \n",
       "3           NaT           House Ads         True         True           1.0   \n",
       "4           NaT           House Ads         True         True           1.0   \n",
       "\n",
       "   day_served  \n",
       "0         0.0  \n",
       "1         0.0  \n",
       "2         0.0  \n",
       "3         0.0  \n",
       "4         0.0  "
      ]
     },
     "execution_count": 2,
     "metadata": {},
     "output_type": "execute_result"
    }
   ],
   "source": [
    "mkt = pd.read_csv('/QXJ/Python/Datacamp/Marketing/marketing_1.csv', index_col = 0, parse_dates = ['date_served','date_subscribed', 'date_canceled'])\n",
    "mkt.head()"
   ]
  },
  {
   "cell_type": "code",
   "execution_count": 4,
   "id": "e650a643",
   "metadata": {},
   "outputs": [
    {
     "data": {
      "text/plain": [
       "(10037, 12)"
      ]
     },
     "execution_count": 4,
     "metadata": {},
     "output_type": "execute_result"
    }
   ],
   "source": [
    "mkt.shape"
   ]
  },
  {
   "cell_type": "code",
   "execution_count": 5,
   "id": "b1727f31",
   "metadata": {},
   "outputs": [
    {
     "data": {
      "text/plain": [
       "Index(['user_id', 'date_served', 'marketing_channel', 'variant', 'converted',\n",
       "       'language_displayed', 'language_preferred', 'age_group',\n",
       "       'date_subscribed', 'date_canceled', 'subscribing_channel',\n",
       "       'is_retained'],\n",
       "      dtype='object')"
      ]
     },
     "execution_count": 5,
     "metadata": {},
     "output_type": "execute_result"
    }
   ],
   "source": [
    "mkt.columns"
   ]
  },
  {
   "cell_type": "code",
   "execution_count": 9,
   "id": "0e143359",
   "metadata": {},
   "outputs": [
    {
     "data": {
      "text/plain": [
       "2728"
      ]
     },
     "execution_count": 9,
     "metadata": {},
     "output_type": "execute_result"
    }
   ],
   "source": [
    "mkt.duplicated(subset = 'user_id').sum()"
   ]
  },
  {
   "cell_type": "code",
   "execution_count": 10,
   "id": "3eb08622",
   "metadata": {},
   "outputs": [
    {
     "data": {
      "text/plain": [
       "array(['House Ads', 'Push', 'Facebook', 'Instagram', 'Email', nan],\n",
       "      dtype=object)"
      ]
     },
     "execution_count": 10,
     "metadata": {},
     "output_type": "execute_result"
    }
   ],
   "source": [
    "mkt['marketing_channel'].unique()"
   ]
  },
  {
   "cell_type": "code",
   "execution_count": 11,
   "id": "c85dc7be",
   "metadata": {},
   "outputs": [
    {
     "data": {
      "text/html": [
       "<div>\n",
       "<style scoped>\n",
       "    .dataframe tbody tr th:only-of-type {\n",
       "        vertical-align: middle;\n",
       "    }\n",
       "\n",
       "    .dataframe tbody tr th {\n",
       "        vertical-align: top;\n",
       "    }\n",
       "\n",
       "    .dataframe thead th {\n",
       "        text-align: right;\n",
       "    }\n",
       "</style>\n",
       "<table border=\"1\" class=\"dataframe\">\n",
       "  <thead>\n",
       "    <tr style=\"text-align: right;\">\n",
       "      <th></th>\n",
       "      <th>user_id</th>\n",
       "      <th>date_served</th>\n",
       "      <th>marketing_channel</th>\n",
       "      <th>variant</th>\n",
       "      <th>converted</th>\n",
       "      <th>language_displayed</th>\n",
       "      <th>language_preferred</th>\n",
       "      <th>age_group</th>\n",
       "      <th>date_subscribed</th>\n",
       "      <th>date_canceled</th>\n",
       "      <th>subscribing_channel</th>\n",
       "      <th>is_retained</th>\n",
       "    </tr>\n",
       "  </thead>\n",
       "  <tbody>\n",
       "    <tr>\n",
       "      <th>count</th>\n",
       "      <td>10037</td>\n",
       "      <td>10021</td>\n",
       "      <td>10022</td>\n",
       "      <td>10037</td>\n",
       "      <td>10022</td>\n",
       "      <td>10037</td>\n",
       "      <td>10037</td>\n",
       "      <td>10037</td>\n",
       "      <td>1856</td>\n",
       "      <td>577</td>\n",
       "      <td>1856</td>\n",
       "      <td>1856</td>\n",
       "    </tr>\n",
       "    <tr>\n",
       "      <th>unique</th>\n",
       "      <td>7309</td>\n",
       "      <td>31</td>\n",
       "      <td>5</td>\n",
       "      <td>2</td>\n",
       "      <td>2</td>\n",
       "      <td>4</td>\n",
       "      <td>4</td>\n",
       "      <td>7</td>\n",
       "      <td>31</td>\n",
       "      <td>115</td>\n",
       "      <td>5</td>\n",
       "      <td>2</td>\n",
       "    </tr>\n",
       "    <tr>\n",
       "      <th>top</th>\n",
       "      <td>a100000882</td>\n",
       "      <td>1/15/18</td>\n",
       "      <td>House Ads</td>\n",
       "      <td>control</td>\n",
       "      <td>False</td>\n",
       "      <td>English</td>\n",
       "      <td>English</td>\n",
       "      <td>19-24 years</td>\n",
       "      <td>1/16/18</td>\n",
       "      <td>4/2/18</td>\n",
       "      <td>Instagram</td>\n",
       "      <td>True</td>\n",
       "    </tr>\n",
       "    <tr>\n",
       "      <th>freq</th>\n",
       "      <td>12</td>\n",
       "      <td>789</td>\n",
       "      <td>4733</td>\n",
       "      <td>5091</td>\n",
       "      <td>8946</td>\n",
       "      <td>9793</td>\n",
       "      <td>9275</td>\n",
       "      <td>1682</td>\n",
       "      <td>163</td>\n",
       "      <td>15</td>\n",
       "      <td>600</td>\n",
       "      <td>1279</td>\n",
       "    </tr>\n",
       "  </tbody>\n",
       "</table>\n",
       "</div>"
      ],
      "text/plain": [
       "           user_id date_served marketing_channel  variant converted  \\\n",
       "count        10037       10021             10022    10037     10022   \n",
       "unique        7309          31                 5        2         2   \n",
       "top     a100000882     1/15/18         House Ads  control     False   \n",
       "freq            12         789              4733     5091      8946   \n",
       "\n",
       "       language_displayed language_preferred    age_group date_subscribed  \\\n",
       "count               10037              10037        10037            1856   \n",
       "unique                  4                  4            7              31   \n",
       "top               English            English  19-24 years         1/16/18   \n",
       "freq                 9793               9275         1682             163   \n",
       "\n",
       "       date_canceled subscribing_channel is_retained  \n",
       "count            577                1856        1856  \n",
       "unique           115                   5           2  \n",
       "top           4/2/18           Instagram        True  \n",
       "freq              15                 600        1279  "
      ]
     },
     "execution_count": 11,
     "metadata": {},
     "output_type": "execute_result"
    }
   ],
   "source": [
    "mkt.describe()"
   ]
  },
  {
   "cell_type": "code",
   "execution_count": 16,
   "id": "7923825b",
   "metadata": {},
   "outputs": [
    {
     "data": {
      "text/plain": [
       "user_id                object\n",
       "date_served            object\n",
       "marketing_channel      object\n",
       "variant                object\n",
       "converted              object\n",
       "language_displayed     object\n",
       "language_preferred     object\n",
       "age_group              object\n",
       "date_subscribed        object\n",
       "date_canceled          object\n",
       "subscribing_channel    object\n",
       "is_retained            object\n",
       "dtype: object"
      ]
     },
     "execution_count": 16,
     "metadata": {},
     "output_type": "execute_result"
    }
   ],
   "source": [
    "mkt.dtypes"
   ]
  },
  {
   "cell_type": "code",
   "execution_count": 17,
   "id": "8555ffa7",
   "metadata": {},
   "outputs": [
    {
     "data": {
      "text/plain": [
       "user_id                   0\n",
       "date_served              16\n",
       "marketing_channel        15\n",
       "variant                   0\n",
       "converted                15\n",
       "language_displayed        0\n",
       "language_preferred        0\n",
       "age_group                 0\n",
       "date_subscribed        8181\n",
       "date_canceled          9460\n",
       "subscribing_channel    8181\n",
       "is_retained            8181\n",
       "dtype: int64"
      ]
     },
     "execution_count": 17,
     "metadata": {},
     "output_type": "execute_result"
    }
   ],
   "source": [
    "mkt.isna().sum()"
   ]
  },
  {
   "cell_type": "code",
   "execution_count": 18,
   "id": "55744ff0",
   "metadata": {},
   "outputs": [
    {
     "name": "stdout",
     "output_type": "stream",
     "text": [
      "<class 'pandas.core.frame.DataFrame'>\n",
      "RangeIndex: 10037 entries, 0 to 10036\n",
      "Data columns (total 12 columns):\n",
      " #   Column               Non-Null Count  Dtype \n",
      "---  ------               --------------  ----- \n",
      " 0   user_id              10037 non-null  object\n",
      " 1   date_served          10021 non-null  object\n",
      " 2   marketing_channel    10022 non-null  object\n",
      " 3   variant              10037 non-null  object\n",
      " 4   converted            10022 non-null  object\n",
      " 5   language_displayed   10037 non-null  object\n",
      " 6   language_preferred   10037 non-null  object\n",
      " 7   age_group            10037 non-null  object\n",
      " 8   date_subscribed      1856 non-null   object\n",
      " 9   date_canceled        577 non-null    object\n",
      " 10  subscribing_channel  1856 non-null   object\n",
      " 11  is_retained          1856 non-null   object\n",
      "dtypes: object(12)\n",
      "memory usage: 941.1+ KB\n"
     ]
    }
   ],
   "source": [
    "mkt.info()"
   ]
  },
  {
   "cell_type": "markdown",
   "id": "c351957b",
   "metadata": {},
   "source": [
    "## Clean datat"
   ]
  },
  {
   "cell_type": "markdown",
   "id": "f759cf0f",
   "metadata": {},
   "source": [
    "### 1. Data types and data merging"
   ]
  },
  {
   "cell_type": "code",
   "execution_count": 32,
   "id": "79efaeb9",
   "metadata": {},
   "outputs": [],
   "source": [
    "mkt['converted'] = mkt['converted'].astype('bool')"
   ]
  },
  {
   "cell_type": "code",
   "execution_count": 34,
   "id": "d9d40dfb",
   "metadata": {},
   "outputs": [
    {
     "data": {
      "text/plain": [
       "array(['personalization', 'control'], dtype=object)"
      ]
     },
     "execution_count": 34,
     "metadata": {},
     "output_type": "execute_result"
    }
   ],
   "source": [
    "mkt['variant'].unique()"
   ]
  },
  {
   "cell_type": "code",
   "execution_count": 35,
   "id": "963c018e",
   "metadata": {},
   "outputs": [
    {
     "data": {
      "text/plain": [
       "array(['English', 'German', 'Arabic', 'Spanish'], dtype=object)"
      ]
     },
     "execution_count": 35,
     "metadata": {},
     "output_type": "execute_result"
    }
   ],
   "source": [
    "mkt['language_displayed'].unique()"
   ]
  },
  {
   "cell_type": "code",
   "execution_count": 36,
   "id": "e56d3fb4",
   "metadata": {},
   "outputs": [
    {
     "data": {
      "text/plain": [
       "array(['English', 'German', 'Arabic', 'Spanish'], dtype=object)"
      ]
     },
     "execution_count": 36,
     "metadata": {},
     "output_type": "execute_result"
    }
   ],
   "source": [
    "mkt['language_preferred'].unique()"
   ]
  },
  {
   "cell_type": "code",
   "execution_count": 37,
   "id": "2977d4b0",
   "metadata": {},
   "outputs": [
    {
     "data": {
      "text/plain": [
       "array(['0-18 years', '19-24 years', '24-30 years', '30-36 years',\n",
       "       '36-45 years', '45-55 years', '55+ years'], dtype=object)"
      ]
     },
     "execution_count": 37,
     "metadata": {},
     "output_type": "execute_result"
    }
   ],
   "source": [
    "mkt['age_group'].unique()"
   ]
  },
  {
   "cell_type": "code",
   "execution_count": 38,
   "id": "e8c5b764",
   "metadata": {},
   "outputs": [
    {
     "data": {
      "text/plain": [
       "array(['House Ads', 'Email', 'Push', 'Facebook', 'Instagram', nan],\n",
       "      dtype=object)"
      ]
     },
     "execution_count": 38,
     "metadata": {},
     "output_type": "execute_result"
    }
   ],
   "source": [
    "mkt['subscribing_channel'].unique()"
   ]
  },
  {
   "cell_type": "code",
   "execution_count": 41,
   "id": "184c7de2",
   "metadata": {},
   "outputs": [
    {
     "data": {
      "text/plain": [
       "dtype('bool')"
      ]
     },
     "execution_count": 41,
     "metadata": {},
     "output_type": "execute_result"
    }
   ],
   "source": [
    "mkt['is_retained'] = mkt['is_retained'].astype('bool')\n",
    "mkt['is_retained'].dtype"
   ]
  },
  {
   "cell_type": "code",
   "execution_count": 42,
   "id": "d8b0bcaf",
   "metadata": {
    "scrolled": true
   },
   "outputs": [
    {
     "data": {
      "text/html": [
       "<div>\n",
       "<style scoped>\n",
       "    .dataframe tbody tr th:only-of-type {\n",
       "        vertical-align: middle;\n",
       "    }\n",
       "\n",
       "    .dataframe tbody tr th {\n",
       "        vertical-align: top;\n",
       "    }\n",
       "\n",
       "    .dataframe thead th {\n",
       "        text-align: right;\n",
       "    }\n",
       "</style>\n",
       "<table border=\"1\" class=\"dataframe\">\n",
       "  <thead>\n",
       "    <tr style=\"text-align: right;\">\n",
       "      <th></th>\n",
       "      <th>user_id</th>\n",
       "      <th>date_served</th>\n",
       "      <th>marketing_channel</th>\n",
       "      <th>variant</th>\n",
       "      <th>converted</th>\n",
       "      <th>language_displayed</th>\n",
       "      <th>language_preferred</th>\n",
       "      <th>age_group</th>\n",
       "      <th>date_subscribed</th>\n",
       "      <th>date_canceled</th>\n",
       "      <th>subscribing_channel</th>\n",
       "      <th>is_retained</th>\n",
       "      <th>is_house_ad</th>\n",
       "    </tr>\n",
       "  </thead>\n",
       "  <tbody>\n",
       "    <tr>\n",
       "      <th>0</th>\n",
       "      <td>a100000029</td>\n",
       "      <td>1/1/18</td>\n",
       "      <td>House Ads</td>\n",
       "      <td>personalization</td>\n",
       "      <td>True</td>\n",
       "      <td>English</td>\n",
       "      <td>English</td>\n",
       "      <td>0-18 years</td>\n",
       "      <td>1/1/18</td>\n",
       "      <td>NaN</td>\n",
       "      <td>House Ads</td>\n",
       "      <td>True</td>\n",
       "      <td>True</td>\n",
       "    </tr>\n",
       "    <tr>\n",
       "      <th>1</th>\n",
       "      <td>a100000030</td>\n",
       "      <td>1/1/18</td>\n",
       "      <td>House Ads</td>\n",
       "      <td>personalization</td>\n",
       "      <td>True</td>\n",
       "      <td>English</td>\n",
       "      <td>English</td>\n",
       "      <td>19-24 years</td>\n",
       "      <td>1/1/18</td>\n",
       "      <td>NaN</td>\n",
       "      <td>House Ads</td>\n",
       "      <td>True</td>\n",
       "      <td>True</td>\n",
       "    </tr>\n",
       "    <tr>\n",
       "      <th>2</th>\n",
       "      <td>a100000031</td>\n",
       "      <td>1/1/18</td>\n",
       "      <td>House Ads</td>\n",
       "      <td>personalization</td>\n",
       "      <td>True</td>\n",
       "      <td>English</td>\n",
       "      <td>English</td>\n",
       "      <td>24-30 years</td>\n",
       "      <td>1/1/18</td>\n",
       "      <td>NaN</td>\n",
       "      <td>House Ads</td>\n",
       "      <td>True</td>\n",
       "      <td>True</td>\n",
       "    </tr>\n",
       "    <tr>\n",
       "      <th>3</th>\n",
       "      <td>a100000032</td>\n",
       "      <td>1/1/18</td>\n",
       "      <td>House Ads</td>\n",
       "      <td>personalization</td>\n",
       "      <td>True</td>\n",
       "      <td>English</td>\n",
       "      <td>English</td>\n",
       "      <td>30-36 years</td>\n",
       "      <td>1/1/18</td>\n",
       "      <td>NaN</td>\n",
       "      <td>House Ads</td>\n",
       "      <td>True</td>\n",
       "      <td>True</td>\n",
       "    </tr>\n",
       "    <tr>\n",
       "      <th>4</th>\n",
       "      <td>a100000033</td>\n",
       "      <td>1/1/18</td>\n",
       "      <td>House Ads</td>\n",
       "      <td>personalization</td>\n",
       "      <td>True</td>\n",
       "      <td>English</td>\n",
       "      <td>English</td>\n",
       "      <td>36-45 years</td>\n",
       "      <td>1/1/18</td>\n",
       "      <td>NaN</td>\n",
       "      <td>House Ads</td>\n",
       "      <td>True</td>\n",
       "      <td>True</td>\n",
       "    </tr>\n",
       "  </tbody>\n",
       "</table>\n",
       "</div>"
      ],
      "text/plain": [
       "      user_id date_served marketing_channel          variant  converted  \\\n",
       "0  a100000029      1/1/18         House Ads  personalization       True   \n",
       "1  a100000030      1/1/18         House Ads  personalization       True   \n",
       "2  a100000031      1/1/18         House Ads  personalization       True   \n",
       "3  a100000032      1/1/18         House Ads  personalization       True   \n",
       "4  a100000033      1/1/18         House Ads  personalization       True   \n",
       "\n",
       "  language_displayed language_preferred    age_group date_subscribed  \\\n",
       "0            English            English   0-18 years          1/1/18   \n",
       "1            English            English  19-24 years          1/1/18   \n",
       "2            English            English  24-30 years          1/1/18   \n",
       "3            English            English  30-36 years          1/1/18   \n",
       "4            English            English  36-45 years          1/1/18   \n",
       "\n",
       "  date_canceled subscribing_channel  is_retained  is_house_ad  \n",
       "0           NaN           House Ads         True         True  \n",
       "1           NaN           House Ads         True         True  \n",
       "2           NaN           House Ads         True         True  \n",
       "3           NaN           House Ads         True         True  \n",
       "4           NaN           House Ads         True         True  "
      ]
     },
     "execution_count": 42,
     "metadata": {},
     "output_type": "execute_result"
    }
   ],
   "source": [
    "# create a boolean column \n",
    "mkt['is_house_ad'] = np.where(mkt['marketing_channel'] == 'House Ads', \n",
    "                              True, False)\n",
    "mkt.head()"
   ]
  },
  {
   "cell_type": "code",
   "execution_count": 44,
   "id": "865a1093",
   "metadata": {},
   "outputs": [
    {
     "data": {
      "text/html": [
       "<div>\n",
       "<style scoped>\n",
       "    .dataframe tbody tr th:only-of-type {\n",
       "        vertical-align: middle;\n",
       "    }\n",
       "\n",
       "    .dataframe tbody tr th {\n",
       "        vertical-align: top;\n",
       "    }\n",
       "\n",
       "    .dataframe thead th {\n",
       "        text-align: right;\n",
       "    }\n",
       "</style>\n",
       "<table border=\"1\" class=\"dataframe\">\n",
       "  <thead>\n",
       "    <tr style=\"text-align: right;\">\n",
       "      <th></th>\n",
       "      <th>user_id</th>\n",
       "      <th>date_served</th>\n",
       "      <th>marketing_channel</th>\n",
       "      <th>variant</th>\n",
       "      <th>converted</th>\n",
       "      <th>language_displayed</th>\n",
       "      <th>language_preferred</th>\n",
       "      <th>age_group</th>\n",
       "      <th>date_subscribed</th>\n",
       "      <th>date_canceled</th>\n",
       "      <th>subscribing_channel</th>\n",
       "      <th>is_retained</th>\n",
       "      <th>is_house_ad</th>\n",
       "      <th>channel_code</th>\n",
       "    </tr>\n",
       "  </thead>\n",
       "  <tbody>\n",
       "    <tr>\n",
       "      <th>0</th>\n",
       "      <td>a100000029</td>\n",
       "      <td>1/1/18</td>\n",
       "      <td>House Ads</td>\n",
       "      <td>personalization</td>\n",
       "      <td>True</td>\n",
       "      <td>English</td>\n",
       "      <td>English</td>\n",
       "      <td>0-18 years</td>\n",
       "      <td>1/1/18</td>\n",
       "      <td>NaN</td>\n",
       "      <td>House Ads</td>\n",
       "      <td>True</td>\n",
       "      <td>True</td>\n",
       "      <td>1.0</td>\n",
       "    </tr>\n",
       "    <tr>\n",
       "      <th>1</th>\n",
       "      <td>a100000030</td>\n",
       "      <td>1/1/18</td>\n",
       "      <td>House Ads</td>\n",
       "      <td>personalization</td>\n",
       "      <td>True</td>\n",
       "      <td>English</td>\n",
       "      <td>English</td>\n",
       "      <td>19-24 years</td>\n",
       "      <td>1/1/18</td>\n",
       "      <td>NaN</td>\n",
       "      <td>House Ads</td>\n",
       "      <td>True</td>\n",
       "      <td>True</td>\n",
       "      <td>1.0</td>\n",
       "    </tr>\n",
       "    <tr>\n",
       "      <th>2</th>\n",
       "      <td>a100000031</td>\n",
       "      <td>1/1/18</td>\n",
       "      <td>House Ads</td>\n",
       "      <td>personalization</td>\n",
       "      <td>True</td>\n",
       "      <td>English</td>\n",
       "      <td>English</td>\n",
       "      <td>24-30 years</td>\n",
       "      <td>1/1/18</td>\n",
       "      <td>NaN</td>\n",
       "      <td>House Ads</td>\n",
       "      <td>True</td>\n",
       "      <td>True</td>\n",
       "      <td>1.0</td>\n",
       "    </tr>\n",
       "    <tr>\n",
       "      <th>3</th>\n",
       "      <td>a100000032</td>\n",
       "      <td>1/1/18</td>\n",
       "      <td>House Ads</td>\n",
       "      <td>personalization</td>\n",
       "      <td>True</td>\n",
       "      <td>English</td>\n",
       "      <td>English</td>\n",
       "      <td>30-36 years</td>\n",
       "      <td>1/1/18</td>\n",
       "      <td>NaN</td>\n",
       "      <td>House Ads</td>\n",
       "      <td>True</td>\n",
       "      <td>True</td>\n",
       "      <td>1.0</td>\n",
       "    </tr>\n",
       "    <tr>\n",
       "      <th>4</th>\n",
       "      <td>a100000033</td>\n",
       "      <td>1/1/18</td>\n",
       "      <td>House Ads</td>\n",
       "      <td>personalization</td>\n",
       "      <td>True</td>\n",
       "      <td>English</td>\n",
       "      <td>English</td>\n",
       "      <td>36-45 years</td>\n",
       "      <td>1/1/18</td>\n",
       "      <td>NaN</td>\n",
       "      <td>House Ads</td>\n",
       "      <td>True</td>\n",
       "      <td>True</td>\n",
       "      <td>1.0</td>\n",
       "    </tr>\n",
       "  </tbody>\n",
       "</table>\n",
       "</div>"
      ],
      "text/plain": [
       "      user_id date_served marketing_channel          variant  converted  \\\n",
       "0  a100000029      1/1/18         House Ads  personalization       True   \n",
       "1  a100000030      1/1/18         House Ads  personalization       True   \n",
       "2  a100000031      1/1/18         House Ads  personalization       True   \n",
       "3  a100000032      1/1/18         House Ads  personalization       True   \n",
       "4  a100000033      1/1/18         House Ads  personalization       True   \n",
       "\n",
       "  language_displayed language_preferred    age_group date_subscribed  \\\n",
       "0            English            English   0-18 years          1/1/18   \n",
       "1            English            English  19-24 years          1/1/18   \n",
       "2            English            English  24-30 years          1/1/18   \n",
       "3            English            English  30-36 years          1/1/18   \n",
       "4            English            English  36-45 years          1/1/18   \n",
       "\n",
       "  date_canceled subscribing_channel  is_retained  is_house_ad  channel_code  \n",
       "0           NaN           House Ads         True         True           1.0  \n",
       "1           NaN           House Ads         True         True           1.0  \n",
       "2           NaN           House Ads         True         True           1.0  \n",
       "3           NaN           House Ads         True         True           1.0  \n",
       "4           NaN           House Ads         True         True           1.0  "
      ]
     },
     "execution_count": 44,
     "metadata": {},
     "output_type": "execute_result"
    }
   ],
   "source": [
    "# create a new column\n",
    "channel_dict = {'House Ads': 1, 'Push': 5, 'Facebook':3, \n",
    "                'Instagram': 2, 'Email':4}\n",
    "mkt['channel_code'] = mkt['marketing_channel'].map(channel_dict)\n",
    "mkt.head()"
   ]
  },
  {
   "cell_type": "code",
   "execution_count": 45,
   "id": "f9882933",
   "metadata": {},
   "outputs": [],
   "source": [
    "# parse dates \n",
    "mkt['date_served'] = pd.to_datetime(mkt['date_served'])\n",
    "mkt['date_subscribed'] = pd.to_datetime(mkt['date_subscribed'])\n",
    "mkt['date_canceled'] = pd.to_datetime(mkt['date_canceled'])"
   ]
  },
  {
   "cell_type": "code",
   "execution_count": 47,
   "id": "984c7a23",
   "metadata": {},
   "outputs": [
    {
     "data": {
      "text/html": [
       "<div>\n",
       "<style scoped>\n",
       "    .dataframe tbody tr th:only-of-type {\n",
       "        vertical-align: middle;\n",
       "    }\n",
       "\n",
       "    .dataframe tbody tr th {\n",
       "        vertical-align: top;\n",
       "    }\n",
       "\n",
       "    .dataframe thead th {\n",
       "        text-align: right;\n",
       "    }\n",
       "</style>\n",
       "<table border=\"1\" class=\"dataframe\">\n",
       "  <thead>\n",
       "    <tr style=\"text-align: right;\">\n",
       "      <th></th>\n",
       "      <th>user_id</th>\n",
       "      <th>date_served</th>\n",
       "      <th>marketing_channel</th>\n",
       "      <th>variant</th>\n",
       "      <th>converted</th>\n",
       "      <th>language_displayed</th>\n",
       "      <th>language_preferred</th>\n",
       "      <th>age_group</th>\n",
       "      <th>date_subscribed</th>\n",
       "      <th>date_canceled</th>\n",
       "      <th>subscribing_channel</th>\n",
       "      <th>is_retained</th>\n",
       "      <th>is_house_ad</th>\n",
       "      <th>channel_code</th>\n",
       "      <th>day_served</th>\n",
       "    </tr>\n",
       "  </thead>\n",
       "  <tbody>\n",
       "    <tr>\n",
       "      <th>10032</th>\n",
       "      <td>a100007290</td>\n",
       "      <td>2018-01-17</td>\n",
       "      <td>Email</td>\n",
       "      <td>control</td>\n",
       "      <td>True</td>\n",
       "      <td>German</td>\n",
       "      <td>German</td>\n",
       "      <td>45-55 years</td>\n",
       "      <td>2018-01-17</td>\n",
       "      <td>2018-01-24</td>\n",
       "      <td>Email</td>\n",
       "      <td>False</td>\n",
       "      <td>False</td>\n",
       "      <td>4.0</td>\n",
       "      <td>2.0</td>\n",
       "    </tr>\n",
       "    <tr>\n",
       "      <th>10033</th>\n",
       "      <td>a100007291</td>\n",
       "      <td>2018-01-17</td>\n",
       "      <td>Email</td>\n",
       "      <td>control</td>\n",
       "      <td>True</td>\n",
       "      <td>German</td>\n",
       "      <td>German</td>\n",
       "      <td>55+ years</td>\n",
       "      <td>2018-01-17</td>\n",
       "      <td>NaT</td>\n",
       "      <td>Email</td>\n",
       "      <td>True</td>\n",
       "      <td>False</td>\n",
       "      <td>4.0</td>\n",
       "      <td>2.0</td>\n",
       "    </tr>\n",
       "    <tr>\n",
       "      <th>10034</th>\n",
       "      <td>a100007292</td>\n",
       "      <td>2018-01-05</td>\n",
       "      <td>Instagram</td>\n",
       "      <td>control</td>\n",
       "      <td>False</td>\n",
       "      <td>German</td>\n",
       "      <td>German</td>\n",
       "      <td>55+ years</td>\n",
       "      <td>2018-01-17</td>\n",
       "      <td>NaT</td>\n",
       "      <td>Email</td>\n",
       "      <td>True</td>\n",
       "      <td>False</td>\n",
       "      <td>2.0</td>\n",
       "      <td>4.0</td>\n",
       "    </tr>\n",
       "    <tr>\n",
       "      <th>10035</th>\n",
       "      <td>a100007293</td>\n",
       "      <td>2018-01-17</td>\n",
       "      <td>Email</td>\n",
       "      <td>control</td>\n",
       "      <td>True</td>\n",
       "      <td>German</td>\n",
       "      <td>German</td>\n",
       "      <td>0-18 years</td>\n",
       "      <td>2018-01-17</td>\n",
       "      <td>NaT</td>\n",
       "      <td>Email</td>\n",
       "      <td>True</td>\n",
       "      <td>False</td>\n",
       "      <td>4.0</td>\n",
       "      <td>2.0</td>\n",
       "    </tr>\n",
       "    <tr>\n",
       "      <th>10036</th>\n",
       "      <td>a100007294</td>\n",
       "      <td>2018-01-06</td>\n",
       "      <td>Facebook</td>\n",
       "      <td>control</td>\n",
       "      <td>False</td>\n",
       "      <td>German</td>\n",
       "      <td>German</td>\n",
       "      <td>0-18 years</td>\n",
       "      <td>2018-01-17</td>\n",
       "      <td>NaT</td>\n",
       "      <td>Email</td>\n",
       "      <td>True</td>\n",
       "      <td>False</td>\n",
       "      <td>3.0</td>\n",
       "      <td>5.0</td>\n",
       "    </tr>\n",
       "  </tbody>\n",
       "</table>\n",
       "</div>"
      ],
      "text/plain": [
       "          user_id date_served marketing_channel  variant  converted  \\\n",
       "10032  a100007290  2018-01-17             Email  control       True   \n",
       "10033  a100007291  2018-01-17             Email  control       True   \n",
       "10034  a100007292  2018-01-05         Instagram  control      False   \n",
       "10035  a100007293  2018-01-17             Email  control       True   \n",
       "10036  a100007294  2018-01-06          Facebook  control      False   \n",
       "\n",
       "      language_displayed language_preferred    age_group date_subscribed  \\\n",
       "10032             German             German  45-55 years      2018-01-17   \n",
       "10033             German             German    55+ years      2018-01-17   \n",
       "10034             German             German    55+ years      2018-01-17   \n",
       "10035             German             German   0-18 years      2018-01-17   \n",
       "10036             German             German   0-18 years      2018-01-17   \n",
       "\n",
       "      date_canceled subscribing_channel  is_retained  is_house_ad  \\\n",
       "10032    2018-01-24               Email        False        False   \n",
       "10033           NaT               Email         True        False   \n",
       "10034           NaT               Email         True        False   \n",
       "10035           NaT               Email         True        False   \n",
       "10036           NaT               Email         True        False   \n",
       "\n",
       "       channel_code  day_served  \n",
       "10032           4.0         2.0  \n",
       "10033           4.0         2.0  \n",
       "10034           2.0         4.0  \n",
       "10035           4.0         2.0  \n",
       "10036           3.0         5.0  "
      ]
     },
     "execution_count": 47,
     "metadata": {},
     "output_type": "execute_result"
    }
   ],
   "source": [
    "# add dayofweek column based on date_served\n",
    "mkt['day_served'] = mkt['date_served'].dt.dayofweek\n",
    "mkt.tail()"
   ]
  },
  {
   "cell_type": "code",
   "execution_count": 48,
   "id": "ae6a4292",
   "metadata": {},
   "outputs": [],
   "source": [
    "mkt.to_csv('/QXJ/Python/Datacamp/Marketing/marketing_1.csv')"
   ]
  },
  {
   "cell_type": "code",
   "execution_count": 9,
   "id": "db28bf66",
   "metadata": {},
   "outputs": [
    {
     "name": "stdout",
     "output_type": "stream",
     "text": [
      "<class 'pandas.core.frame.DataFrame'>\n",
      "Int64Index: 10037 entries, 0 to 10036\n",
      "Data columns (total 15 columns):\n",
      " #   Column               Non-Null Count  Dtype         \n",
      "---  ------               --------------  -----         \n",
      " 0   user_id              10037 non-null  object        \n",
      " 1   date_served          10021 non-null  datetime64[ns]\n",
      " 2   marketing_channel    10022 non-null  object        \n",
      " 3   variant              10037 non-null  object        \n",
      " 4   converted            10037 non-null  bool          \n",
      " 5   language_displayed   10037 non-null  object        \n",
      " 6   language_preferred   10037 non-null  object        \n",
      " 7   age_group            10037 non-null  object        \n",
      " 8   date_subscribed      1856 non-null   datetime64[ns]\n",
      " 9   date_canceled        577 non-null    datetime64[ns]\n",
      " 10  subscribing_channel  1856 non-null   object        \n",
      " 11  is_retained          10037 non-null  bool          \n",
      " 12  is_house_ad          10037 non-null  bool          \n",
      " 13  channel_code         10022 non-null  float64       \n",
      " 14  day_served           10021 non-null  float64       \n",
      "dtypes: bool(3), datetime64[ns](3), float64(2), object(7)\n",
      "memory usage: 1.0+ MB\n"
     ]
    }
   ],
   "source": [
    "mkt.info()\n",
    "# confirm the dtypes"
   ]
  },
  {
   "cell_type": "markdown",
   "id": "788598ba",
   "metadata": {},
   "source": [
    "### 2. Initial exploratory "
   ]
  },
  {
   "cell_type": "code",
   "execution_count": 61,
   "id": "4ba5d48c",
   "metadata": {},
   "outputs": [
    {
     "data": {
      "text/plain": [
       "date_served\n",
       "2018-01-01    362\n",
       "2018-01-02    374\n",
       "2018-01-03    348\n",
       "2018-01-04    323\n",
       "2018-01-05    319\n",
       "Name: user_id, dtype: int64"
      ]
     },
     "execution_count": 61,
     "metadata": {},
     "output_type": "execute_result"
    }
   ],
   "source": [
    "# aggregate unique users by served_date \n",
    "daily_users = mkt.groupby('date_served')['user_id'].nunique()\n",
    "daily_users.head()\n",
    "# each day has around 300 new cusotmers "
   ]
  },
  {
   "cell_type": "code",
   "execution_count": 60,
   "id": "a5f7a75c",
   "metadata": {},
   "outputs": [
    {
     "data": {
      "image/png": "[encoded data removed]",
      "text/plain": [
       "<Figure size 864x432 with 1 Axes>"
      ]
     },
     "metadata": {
      "needs_background": "light"
     },
     "output_type": "display_data"
    }
   ],
   "source": [
    "plt.figure(figsize = (12,6))\n",
    "daily_users.plot()\n",
    "\n",
    "plt.title('daily number of users who see ads')\n",
    "plt.xlabel('date')\n",
    "plt.ylabel('number of unique users')\n",
    "plt.xticks(rotation = 45)\n",
    "plt.show()"
   ]
  },
  {
   "cell_type": "markdown",
   "id": "470d9e64",
   "metadata": {},
   "source": [
    "## Maketing metrics\n",
    "- conversion rate\n",
    "- retention rate"
   ]
  },
  {
   "cell_type": "code",
   "execution_count": 63,
   "id": "7759cbf2",
   "metadata": {},
   "outputs": [
    {
     "data": {
      "text/plain": [
       "1030"
      ]
     },
     "execution_count": 63,
     "metadata": {},
     "output_type": "execute_result"
    }
   ],
   "source": [
    "# the number of converted users\n",
    "subscribers = mkt[mkt['converted'] == True]['user_id'].nunique()\n",
    "subscribers"
   ]
  },
  {
   "cell_type": "code",
   "execution_count": 64,
   "id": "bdb5bdb4",
   "metadata": {},
   "outputs": [
    {
     "data": {
      "text/plain": [
       "7309"
      ]
     },
     "execution_count": 64,
     "metadata": {},
     "output_type": "execute_result"
    }
   ],
   "source": [
    "# total users \n",
    "users = mkt['user_id'].nunique()\n",
    "users"
   ]
  },
  {
   "cell_type": "code",
   "execution_count": 69,
   "id": "ff1869c3",
   "metadata": {},
   "outputs": [
    {
     "name": "stdout",
     "output_type": "stream",
     "text": [
      "14.09 %\n"
     ]
    }
   ],
   "source": [
    "conv_rate = subscribers / users\n",
    "print(round(conv_rate * 100, 2), '%')"
   ]
  },
  {
   "cell_type": "code",
   "execution_count": 85,
   "id": "03e7c2b8",
   "metadata": {},
   "outputs": [
    {
     "name": "stdout",
     "output_type": "stream",
     "text": [
      "67.57 %\n"
     ]
    }
   ],
   "source": [
    "retained = mkt[(mkt['is_retained'] == True)&(mkt['converted'] == True)]\\\n",
    "['user_id'].nunique()\n",
    "retention_rate = retained / subscribers\n",
    "print(round(retention_rate * 100, 2), '%')"
   ]
  },
  {
   "cell_type": "markdown",
   "id": "3a9eaed5",
   "metadata": {},
   "source": [
    "### 3. Cusomer segmentation analysis by conversion rate and retention rate\n",
    "- age/gender/location\n",
    "- past interaction with the business\n",
    "- marketing channels users interacted with"
   ]
  },
  {
   "cell_type": "markdown",
   "id": "31e3cdea",
   "metadata": {},
   "source": [
    "**Compare retention rate by subscribing channel**"
   ]
  },
  {
   "cell_type": "code",
   "execution_count": 97,
   "id": "4c4df680",
   "metadata": {},
   "outputs": [
    {
     "name": "stdout",
     "output_type": "stream",
     "text": [
      "58.05 %\n"
     ]
    }
   ],
   "source": [
    "# segment only the ones click house ad\n",
    "house_ad = mkt[mkt['subscribing_channel'] == 'House Ads']\n",
    "\n",
    "# calculate retention rate\n",
    "retained = house_ad[(house_ad['is_retained'] == True)]['user_id'].nunique()\n",
    "subscribers = house_ad[house_ad['converted'] == True]['user_id'].nunique()\n",
    "r_rate_house = retained / subscribers\n",
    "\n",
    "print(round(r_rate_house * 100, 2), '%')"
   ]
  },
  {
   "cell_type": "code",
   "execution_count": 100,
   "id": "ba4bd88b",
   "metadata": {},
   "outputs": [
    {
     "name": "stdout",
     "output_type": "stream",
     "text": [
      "87.58 %\n"
     ]
    }
   ],
   "source": [
    "# compare across the all channels\n",
    "email = mkt[mkt['subscribing_channel'] == 'Email']\n",
    "\n",
    "# calculate retention rate\n",
    "retained = email[(email['is_retained'] == True)]['user_id'].nunique()\n",
    "subscribers = email[email['converted'] == True]['user_id'].nunique()\n",
    "r_rate_email = retained / subscribers\n",
    "\n",
    "print(round(r_rate_email * 100, 2), '%')"
   ]
  },
  {
   "cell_type": "code",
   "execution_count": 101,
   "id": "89d8daf7",
   "metadata": {},
   "outputs": [
    {
     "name": "stdout",
     "output_type": "stream",
     "text": [
      "70.13 %\n"
     ]
    }
   ],
   "source": [
    "# compare across the all channels\n",
    "push = mkt[mkt['subscribing_channel'] == 'Push']\n",
    "\n",
    "# calculate retention rate\n",
    "retained = push[(push['is_retained'] == True)]['user_id'].nunique()\n",
    "subscribers = push[push['converted'] == True]['user_id'].nunique()\n",
    "r_rate_push = retained / subscribers\n",
    "\n",
    "print(round(r_rate_push * 100, 2), '%')"
   ]
  },
  {
   "cell_type": "code",
   "execution_count": 103,
   "id": "3256bd0d",
   "metadata": {},
   "outputs": [
    {
     "name": "stdout",
     "output_type": "stream",
     "text": [
      "68.78 %\n"
     ]
    }
   ],
   "source": [
    "# compare across the all channels\n",
    "facebook = mkt[mkt['subscribing_channel'] == 'Facebook']\n",
    "\n",
    "# calculate retention rate\n",
    "retained = facebook[(facebook['is_retained'] == True)]['user_id'].nunique()\n",
    "subscribers = facebook[facebook['converted'] == True]['user_id'].nunique()\n",
    "r_rate_facebook = retained / subscribers\n",
    "\n",
    "print(round(r_rate_facebook * 100, 2), '%')"
   ]
  },
  {
   "cell_type": "code",
   "execution_count": 108,
   "id": "bf9e17fc",
   "metadata": {},
   "outputs": [
    {
     "name": "stdout",
     "output_type": "stream",
     "text": [
      "68.1 %\n"
     ]
    }
   ],
   "source": [
    "# compare across the all channels\n",
    "instagram = mkt[mkt['subscribing_channel'] == 'Instagram']\n",
    "\n",
    "# calculate retention rate\n",
    "retained = instagram[(instagram['is_retained'] == True)]['user_id'].nunique()\n",
    "subscribers = instagram[instagram['converted'] == True]['user_id'].nunique()\n",
    "r_rate_instagram = retained / subscribers\n",
    "\n",
    "print(round(r_rate_instagram * 100, 2), '%')"
   ]
  },
  {
   "cell_type": "markdown",
   "id": "fe3913bb",
   "metadata": {},
   "source": [
    "retention rate of different **subscribing channel**\n",
    "- House_ad: 58.05%\n",
    "- Push: 70.13%\n",
    "- Instagram: 68.1%\n",
    "- Email: 87.58%\n",
    "- Facebook: 68.78%"
   ]
  },
  {
   "cell_type": "code",
   "execution_count": 118,
   "id": "6919fd97",
   "metadata": {},
   "outputs": [
    {
     "name": "stdout",
     "output_type": "stream",
     "text": [
      "subscribing_channel\n",
      "Email        87.58\n",
      "Facebook     68.78\n",
      "House Ads    58.05\n",
      "Instagram    68.10\n",
      "Push         70.13\n",
      "Name: user_id, dtype: float64\n"
     ]
    }
   ],
   "source": [
    "# alternative to calculate the all the segmentations \n",
    "retained = mkt[mkt['is_retained'] == True].groupby('subscribing_channel')\\\n",
    "['user_id'].nunique()\n",
    "subscribers = mkt[mkt['converted'] == True].groupby('subscribing_channel')\\\n",
    "['user_id'].nunique()\n",
    "print(round(retained/subscribers * 100, 2))"
   ]
  },
  {
   "cell_type": "markdown",
   "id": "2651425e",
   "metadata": {},
   "source": [
    "**Compare conversion rate by displayed language**"
   ]
  },
  {
   "cell_type": "code",
   "execution_count": 22,
   "id": "3b9f7a81",
   "metadata": {},
   "outputs": [
    {
     "name": "stdout",
     "output_type": "stream",
     "text": [
      "language_displayed\n",
      "Arabic     0.500000\n",
      "English    0.131260\n",
      "German     0.716216\n",
      "Spanish    0.200000\n",
      "Name: user_id, dtype: float64\n"
     ]
    }
   ],
   "source": [
    "# Group by language_displayed and count unique users\n",
    "total = mkt.groupby('language_displayed')['user_id'].nunique()\n",
    "\n",
    "# Group by language_displayed and count unique conversions\n",
    "subscribers = mkt[mkt['converted'] == True].groupby('language_displayed')['user_id'].nunique()\n",
    "\n",
    "# Calculate the conversion rate for all languages\n",
    "language_conversion_rate = subscribers/total\n",
    "print(language_conversion_rate)"
   ]
  },
  {
   "cell_type": "markdown",
   "id": "d20a52fa",
   "metadata": {},
   "source": [
    "*whether there is any difference in the conversion rate based on when in the month*"
   ]
  },
  {
   "cell_type": "code",
   "execution_count": 23,
   "id": "d8753812",
   "metadata": {},
   "outputs": [
    {
     "name": "stdout",
     "output_type": "stream",
     "text": [
      "date_served  language_displayed\n",
      "2018-01-01   Arabic                100.00\n",
      "             English                 9.28\n",
      "             German                 20.00\n",
      "             Spanish                  NaN\n",
      "2018-01-02   Arabic                   NaN\n",
      "                                    ...  \n",
      "2018-01-30   Spanish                  NaN\n",
      "2018-01-31   Arabic                   NaN\n",
      "             English                 5.36\n",
      "             German                   NaN\n",
      "             Spanish                  NaN\n",
      "Name: user_id, Length: 81, dtype: float64\n"
     ]
    }
   ],
   "source": [
    "# Group by date and language_displayed and count unique users\n",
    "total = mkt.groupby(['date_served','language_displayed'])['user_id'].nunique()\n",
    "\n",
    "# Group by date and language_displayed and count unique conversions\n",
    "subscribers = mkt[mkt['converted'] == True].groupby(['date_served','language_displayed'])['user_id'].nunique()\n",
    "\n",
    "# Calculate the conversion rate for all languages by dates\n",
    "date_language_conversion_rate = subscribers/total\n",
    "print(round(date_language_conversion_rate * 100,2))"
   ]
  },
  {
   "cell_type": "code",
   "execution_count": 39,
   "id": "cc579f81",
   "metadata": {},
   "outputs": [
    {
     "name": "stdout",
     "output_type": "stream",
     "text": [
      "date_subscribed\n",
      "2018-01-01    77.78\n",
      "2018-01-02    70.27\n",
      "2018-01-03    72.97\n",
      "2018-01-04    50.00\n",
      "2018-01-05    57.50\n",
      "2018-01-06    75.68\n",
      "2018-01-07    52.63\n",
      "2018-01-08    63.89\n",
      "2018-01-09    67.50\n",
      "2018-01-10    68.29\n",
      "2018-01-11    61.54\n",
      "2018-01-12    39.13\n",
      "2018-01-13    50.00\n",
      "2018-01-14    61.54\n",
      "2018-01-15    71.43\n",
      "2018-01-16    70.19\n",
      "2018-01-17    61.63\n",
      "2018-01-18    73.33\n",
      "2018-01-19    68.42\n",
      "2018-01-20    80.95\n",
      "2018-01-21    76.19\n",
      "2018-01-22    77.27\n",
      "2018-01-23    71.43\n",
      "2018-01-24    65.22\n",
      "2018-01-25    56.52\n",
      "2018-01-26    80.00\n",
      "2018-01-27    57.14\n",
      "2018-01-28    66.67\n",
      "2018-01-29    75.00\n",
      "2018-01-30    71.43\n",
      "2018-01-31    66.67\n",
      "Name: user_id, dtype: float64\n"
     ]
    }
   ],
   "source": [
    "# Daily retention rate\n",
    "total = mkt.groupby('date_subscribed')['user_id'].nunique()\n",
    "subscribers = mkt[mkt['is_retained'] == True].groupby('date_subscribed')['user_id'].nunique()\n",
    "\n",
    "date_r_rate = subscribers/total\n",
    "print(round(date_r_rate * 100,2))"
   ]
  },
  {
   "cell_type": "markdown",
   "id": "15f71a07",
   "metadata": {},
   "source": [
    "### 4. Plottig the result "
   ]
  },
  {
   "cell_type": "code",
   "execution_count": 36,
   "id": "c3df4de5",
   "metadata": {},
   "outputs": [
    {
     "data": {
      "image/png": "[encoded data removed]",
      "text/plain": [
       "<Figure size 432x288 with 1 Axes>"
      ]
     },
     "metadata": {
      "needs_background": "light"
     },
     "output_type": "display_data"
    }
   ],
   "source": [
    "language_conversion_rate.sort_values(ascending = False).plot(kind='bar')\n",
    "plt.title('Conversion rate by languages')\n",
    "plt.ylabel('Conversion rate')\n",
    "plt.xlabel('languages')\n",
    "plt.xticks(rotation = 30)\n",
    "plt.show()"
   ]
  },
  {
   "cell_type": "markdown",
   "id": "97aaf0e3",
   "metadata": {},
   "source": [
    "**Cohort analysis**"
   ]
  },
  {
   "cell_type": "code",
   "execution_count": 43,
   "id": "0c0b445a",
   "metadata": {},
   "outputs": [
    {
     "data": {
      "text/html": [
       "<div>\n",
       "<style scoped>\n",
       "    .dataframe tbody tr th:only-of-type {\n",
       "        vertical-align: middle;\n",
       "    }\n",
       "\n",
       "    .dataframe tbody tr th {\n",
       "        vertical-align: top;\n",
       "    }\n",
       "\n",
       "    .dataframe thead th {\n",
       "        text-align: right;\n",
       "    }\n",
       "</style>\n",
       "<table border=\"1\" class=\"dataframe\">\n",
       "  <thead>\n",
       "    <tr style=\"text-align: right;\">\n",
       "      <th></th>\n",
       "      <th>date_subscribed</th>\n",
       "      <th>retention_rate</th>\n",
       "    </tr>\n",
       "  </thead>\n",
       "  <tbody>\n",
       "    <tr>\n",
       "      <th>0</th>\n",
       "      <td>2018-01-01</td>\n",
       "      <td>0.777778</td>\n",
       "    </tr>\n",
       "    <tr>\n",
       "      <th>1</th>\n",
       "      <td>2018-01-02</td>\n",
       "      <td>0.702703</td>\n",
       "    </tr>\n",
       "    <tr>\n",
       "      <th>2</th>\n",
       "      <td>2018-01-03</td>\n",
       "      <td>0.729730</td>\n",
       "    </tr>\n",
       "    <tr>\n",
       "      <th>3</th>\n",
       "      <td>2018-01-04</td>\n",
       "      <td>0.500000</td>\n",
       "    </tr>\n",
       "    <tr>\n",
       "      <th>4</th>\n",
       "      <td>2018-01-05</td>\n",
       "      <td>0.575000</td>\n",
       "    </tr>\n",
       "  </tbody>\n",
       "</table>\n",
       "</div>"
      ],
      "text/plain": [
       "  date_subscribed  retention_rate\n",
       "0      2018-01-01        0.777778\n",
       "1      2018-01-02        0.702703\n",
       "2      2018-01-03        0.729730\n",
       "3      2018-01-04        0.500000\n",
       "4      2018-01-05        0.575000"
      ]
     },
     "execution_count": 43,
     "metadata": {},
     "output_type": "execute_result"
    }
   ],
   "source": [
    "# create a new df and reset the index \n",
    "daily_r_rate = pd.DataFrame(date_r_rate.reset_index())\n",
    "\n",
    "# rename the columns \n",
    "daily_r_rate.columns = ['date_subscribed', 'retention_rate']\n",
    "daily_r_rate.head()"
   ]
  },
  {
   "cell_type": "code",
   "execution_count": 49,
   "id": "5af04888",
   "metadata": {},
   "outputs": [
    {
     "data": {
      "text/plain": [
       "<Figure size 864x432 with 0 Axes>"
      ]
     },
     "metadata": {},
     "output_type": "display_data"
    },
    {
     "data": {
      "image/png": "[encoded data removed]",
      "text/plain": [
       "<Figure size 432x288 with 1 Axes>"
      ]
     },
     "metadata": {
      "needs_background": "light"
     },
     "output_type": "display_data"
    }
   ],
   "source": [
    "# cohort analysis plot\n",
    "plt.figure(figsize = (12,6))\n",
    "daily_r_rate.plot('date_subscribed','retention_rate')\n",
    "plt.title('Daily subscriber quality\\n', size = 16)\n",
    "plt.ylabel('1-month retention rate', size = 14)\n",
    "plt.xlabel('Date',size = 14)\n",
    "plt.ylim(0)\n",
    "plt.show()"
   ]
  },
  {
   "cell_type": "code",
   "execution_count": 50,
   "id": "58bbee43",
   "metadata": {},
   "outputs": [
    {
     "data": {
      "text/plain": [
       "date_served  language_preferred\n",
       "2018-01-01   Arabic                  4\n",
       "             English               355\n",
       "             German                  5\n",
       "             Spanish                11\n",
       "2018-01-02   Arabic                  4\n",
       "Name: user_id, dtype: int64"
      ]
     },
     "execution_count": 50,
     "metadata": {},
     "output_type": "execute_result"
    }
   ],
   "source": [
    "# Customer languages preferance \n",
    "language = mkt.groupby(['date_served', 'language_preferred'])\\\n",
    "['user_id'].count()\n",
    "language.head()"
   ]
  },
  {
   "cell_type": "code",
   "execution_count": 52,
   "id": "6c44ab26",
   "metadata": {},
   "outputs": [
    {
     "data": {
      "text/html": [
       "<div>\n",
       "<style scoped>\n",
       "    .dataframe tbody tr th:only-of-type {\n",
       "        vertical-align: middle;\n",
       "    }\n",
       "\n",
       "    .dataframe tbody tr th {\n",
       "        vertical-align: top;\n",
       "    }\n",
       "\n",
       "    .dataframe thead th {\n",
       "        text-align: right;\n",
       "    }\n",
       "</style>\n",
       "<table border=\"1\" class=\"dataframe\">\n",
       "  <thead>\n",
       "    <tr style=\"text-align: right;\">\n",
       "      <th>language_preferred</th>\n",
       "      <th>Arabic</th>\n",
       "      <th>English</th>\n",
       "      <th>German</th>\n",
       "      <th>Spanish</th>\n",
       "    </tr>\n",
       "    <tr>\n",
       "      <th>date_served</th>\n",
       "      <th></th>\n",
       "      <th></th>\n",
       "      <th></th>\n",
       "      <th></th>\n",
       "    </tr>\n",
       "  </thead>\n",
       "  <tbody>\n",
       "    <tr>\n",
       "      <th>2018-01-01</th>\n",
       "      <td>4.0</td>\n",
       "      <td>342.0</td>\n",
       "      <td>5.0</td>\n",
       "      <td>11.0</td>\n",
       "    </tr>\n",
       "    <tr>\n",
       "      <th>2018-01-02</th>\n",
       "      <td>4.0</td>\n",
       "      <td>355.0</td>\n",
       "      <td>5.0</td>\n",
       "      <td>10.0</td>\n",
       "    </tr>\n",
       "    <tr>\n",
       "      <th>2018-01-03</th>\n",
       "      <td>3.0</td>\n",
       "      <td>334.0</td>\n",
       "      <td>3.0</td>\n",
       "      <td>8.0</td>\n",
       "    </tr>\n",
       "    <tr>\n",
       "      <th>2018-01-04</th>\n",
       "      <td>2.0</td>\n",
       "      <td>305.0</td>\n",
       "      <td>2.0</td>\n",
       "      <td>14.0</td>\n",
       "    </tr>\n",
       "    <tr>\n",
       "      <th>2018-01-05</th>\n",
       "      <td>1.0</td>\n",
       "      <td>303.0</td>\n",
       "      <td>2.0</td>\n",
       "      <td>14.0</td>\n",
       "    </tr>\n",
       "  </tbody>\n",
       "</table>\n",
       "</div>"
      ],
      "text/plain": [
       "language_preferred  Arabic  English  German  Spanish\n",
       "date_served                                         \n",
       "2018-01-01             4.0    342.0     5.0     11.0\n",
       "2018-01-02             4.0    355.0     5.0     10.0\n",
       "2018-01-03             3.0    334.0     3.0      8.0\n",
       "2018-01-04             2.0    305.0     2.0     14.0\n",
       "2018-01-05             1.0    303.0     2.0     14.0"
      ]
     },
     "execution_count": 52,
     "metadata": {},
     "output_type": "execute_result"
    }
   ],
   "source": [
    "# transfer to wide list, set level to 1 to unstack the 2rd index \n",
    "language = pd.DataFrame(language.unstack(level = 1))\n",
    "language.head()"
   ]
  },
  {
   "cell_type": "code",
   "execution_count": 54,
   "id": "0029292b",
   "metadata": {},
   "outputs": [
    {
     "data": {
      "image/png": "[encoded data removed]",
      "text/plain": [
       "<Figure size 432x288 with 1 Axes>"
      ]
     },
     "metadata": {
      "needs_background": "light"
     },
     "output_type": "display_data"
    }
   ],
   "source": [
    "language.plot()\n",
    "plt.title('Daily language preferences')\n",
    "plt.xlabel('Date')\n",
    "plt.ylabel('Users')\n",
    "plt.legend(loc = 'upper right',\n",
    "          labels = language.columns.values)\n",
    "plt.show()"
   ]
  },
  {
   "cell_type": "code",
   "execution_count": 62,
   "id": "acac23b8",
   "metadata": {},
   "outputs": [
    {
     "data": {
      "text/plain": [
       "language_preferred  age_group  \n",
       "Arabic              0-18 years     19\n",
       "                    19-24 years    26\n",
       "                    24-30 years    19\n",
       "                    30-36 years    19\n",
       "                    36-45 years    19\n",
       "Name: user_id, dtype: int64"
      ]
     },
     "execution_count": 62,
     "metadata": {},
     "output_type": "execute_result"
    }
   ],
   "source": [
    "# Customer languages preferance \n",
    "language_age = mkt.groupby(['language_preferred', 'age_group'])\\\n",
    "['user_id'].count()\n",
    "language_age.head()"
   ]
  },
  {
   "cell_type": "code",
   "execution_count": 63,
   "id": "fc87aac8",
   "metadata": {},
   "outputs": [
    {
     "data": {
      "text/html": [
       "<div>\n",
       "<style scoped>\n",
       "    .dataframe tbody tr th:only-of-type {\n",
       "        vertical-align: middle;\n",
       "    }\n",
       "\n",
       "    .dataframe tbody tr th {\n",
       "        vertical-align: top;\n",
       "    }\n",
       "\n",
       "    .dataframe thead th {\n",
       "        text-align: right;\n",
       "    }\n",
       "</style>\n",
       "<table border=\"1\" class=\"dataframe\">\n",
       "  <thead>\n",
       "    <tr style=\"text-align: right;\">\n",
       "      <th>age_group</th>\n",
       "      <th>0-18 years</th>\n",
       "      <th>19-24 years</th>\n",
       "      <th>24-30 years</th>\n",
       "      <th>30-36 years</th>\n",
       "      <th>36-45 years</th>\n",
       "      <th>45-55 years</th>\n",
       "      <th>55+ years</th>\n",
       "    </tr>\n",
       "    <tr>\n",
       "      <th>language_preferred</th>\n",
       "      <th></th>\n",
       "      <th></th>\n",
       "      <th></th>\n",
       "      <th></th>\n",
       "      <th></th>\n",
       "      <th></th>\n",
       "      <th></th>\n",
       "    </tr>\n",
       "  </thead>\n",
       "  <tbody>\n",
       "    <tr>\n",
       "      <th>Arabic</th>\n",
       "      <td>19</td>\n",
       "      <td>26</td>\n",
       "      <td>19</td>\n",
       "      <td>19</td>\n",
       "      <td>19</td>\n",
       "      <td>21</td>\n",
       "      <td>22</td>\n",
       "    </tr>\n",
       "    <tr>\n",
       "      <th>English</th>\n",
       "      <td>1421</td>\n",
       "      <td>1560</td>\n",
       "      <td>1442</td>\n",
       "      <td>1251</td>\n",
       "      <td>1260</td>\n",
       "      <td>1240</td>\n",
       "      <td>1101</td>\n",
       "    </tr>\n",
       "    <tr>\n",
       "      <th>German</th>\n",
       "      <td>31</td>\n",
       "      <td>29</td>\n",
       "      <td>35</td>\n",
       "      <td>16</td>\n",
       "      <td>19</td>\n",
       "      <td>25</td>\n",
       "      <td>12</td>\n",
       "    </tr>\n",
       "    <tr>\n",
       "      <th>Spanish</th>\n",
       "      <td>68</td>\n",
       "      <td>67</td>\n",
       "      <td>72</td>\n",
       "      <td>69</td>\n",
       "      <td>55</td>\n",
       "      <td>67</td>\n",
       "      <td>52</td>\n",
       "    </tr>\n",
       "  </tbody>\n",
       "</table>\n",
       "</div>"
      ],
      "text/plain": [
       "age_group           0-18 years  19-24 years  24-30 years  30-36 years  \\\n",
       "language_preferred                                                      \n",
       "Arabic                      19           26           19           19   \n",
       "English                   1421         1560         1442         1251   \n",
       "German                      31           29           35           16   \n",
       "Spanish                     68           67           72           69   \n",
       "\n",
       "age_group           36-45 years  45-55 years  55+ years  \n",
       "language_preferred                                       \n",
       "Arabic                       19           21         22  \n",
       "English                    1260         1240       1101  \n",
       "German                       19           25         12  \n",
       "Spanish                      55           67         52  "
      ]
     },
     "execution_count": 63,
     "metadata": {},
     "output_type": "execute_result"
    }
   ],
   "source": [
    "language_age = pd.DataFrame(language_age.unstack(level = 1))\n",
    "language_age"
   ]
  },
  {
   "cell_type": "code",
   "execution_count": 70,
   "id": "e0fd3cc9",
   "metadata": {},
   "outputs": [
    {
     "data": {
      "image/png": "[encoded data removed]",
      "text/plain": [
       "<Figure size 432x288 with 1 Axes>"
      ]
     },
     "metadata": {
      "needs_background": "light"
     },
     "output_type": "display_data"
    }
   ],
   "source": [
    "language_age.plot(kind = 'bar')\n",
    "plt.title('Language preferences by age group')\n",
    "plt.xlabel('Language')\n",
    "plt.ylabel('Users')\n",
    "plt.legend(loc = 'upper right', labels = language_age.columns.values)\n",
    "plt.show()"
   ]
  },
  {
   "cell_type": "markdown",
   "id": "9918529a",
   "metadata": {},
   "source": [
    "### 5. Convertion attributes\n",
    "- define functions of conversion rate and retention rate\n",
    "- inconsistence checking: language_displayed <> language_perferred\n",
    "- Expected conversion rate - actual conversion rate \n",
    "  - calculate conversion_rate index based on English "
   ]
  },
  {
   "cell_type": "markdown",
   "id": "c50d19b7",
   "metadata": {},
   "source": [
    "**Build retention_rate function**"
   ]
  },
  {
   "cell_type": "code",
   "execution_count": 24,
   "id": "752c948c",
   "metadata": {},
   "outputs": [
    {
     "name": "stdout",
     "output_type": "stream",
     "text": [
      "date_subscribed\n",
      "2018-01-01    77.78\n",
      "2018-01-02    70.27\n",
      "2018-01-03    72.97\n",
      "2018-01-04    50.00\n",
      "2018-01-05    57.50\n",
      "2018-01-06    75.68\n",
      "2018-01-07    52.63\n",
      "2018-01-08    63.89\n",
      "2018-01-09    67.50\n",
      "2018-01-10    68.29\n",
      "2018-01-11    61.54\n",
      "2018-01-12    39.13\n",
      "2018-01-13    50.00\n",
      "2018-01-14    61.54\n",
      "2018-01-15    71.43\n",
      "2018-01-16    70.19\n",
      "2018-01-17    61.63\n",
      "2018-01-18    73.33\n",
      "2018-01-19    68.42\n",
      "2018-01-20    80.95\n",
      "2018-01-21    76.19\n",
      "2018-01-22    77.27\n",
      "2018-01-23    71.43\n",
      "2018-01-24    65.22\n",
      "2018-01-25    56.52\n",
      "2018-01-26    80.00\n",
      "2018-01-27    57.14\n",
      "2018-01-28    66.67\n",
      "2018-01-29    75.00\n",
      "2018-01-30    71.43\n",
      "2018-01-31    66.67\n",
      "Name: user_id, dtype: float64\n"
     ]
    }
   ],
   "source": [
    "# Daily retention rate\n",
    "total = mkt.groupby('date_subscribed')['user_id'].nunique()\n",
    "subscribers = mkt[mkt['is_retained'] == True].groupby('date_subscribed')['user_id'].nunique()\n",
    "\n",
    "date_r_rate = subscribers/total\n",
    "print(round(date_r_rate * 100,2))"
   ]
  },
  {
   "cell_type": "code",
   "execution_count": 25,
   "id": "42bff320",
   "metadata": {},
   "outputs": [],
   "source": [
    "def retention_rate(df, columns):\n",
    "    retained = df[df['is_retained'] == True]\\\n",
    "    .groupby(columns)['user_id'].nunique()\n",
    "    \n",
    "    converted = df[df['converted'] == True]\\\n",
    "    .groupby(columns)['user_id'].nunique()\n",
    "    \n",
    "    retention_rate = retained / converted \n",
    "    \n",
    "    return retention_rate"
   ]
  },
  {
   "cell_type": "code",
   "execution_count": 56,
   "id": "9d61971f",
   "metadata": {},
   "outputs": [
    {
     "data": {
      "text/plain": [
       "date_subscribed  subscribing_channel\n",
       "2018-01-01       Email                  1.000000\n",
       "                 Facebook               0.875000\n",
       "                 House Ads              0.687500\n",
       "                 Instagram              0.750000\n",
       "                 Push                   1.000000\n",
       "                                          ...   \n",
       "2018-01-31       Email                  1.000000\n",
       "                 Facebook               0.833333\n",
       "                 House Ads              0.500000\n",
       "                 Instagram              0.666667\n",
       "                 Push                   0.500000\n",
       "Name: user_id, Length: 155, dtype: float64"
      ]
     },
     "execution_count": 56,
     "metadata": {},
     "output_type": "execute_result"
    }
   ],
   "source": [
    "daily_retention = retention_rate(mkt, ['date_subscribed',\n",
    "                                       'subscribing_channel'])\n",
    "daily_retention"
   ]
  },
  {
   "cell_type": "code",
   "execution_count": 57,
   "id": "f85c4db6",
   "metadata": {},
   "outputs": [
    {
     "data": {
      "text/html": [
       "<div>\n",
       "<style scoped>\n",
       "    .dataframe tbody tr th:only-of-type {\n",
       "        vertical-align: middle;\n",
       "    }\n",
       "\n",
       "    .dataframe tbody tr th {\n",
       "        vertical-align: top;\n",
       "    }\n",
       "\n",
       "    .dataframe thead th {\n",
       "        text-align: right;\n",
       "    }\n",
       "</style>\n",
       "<table border=\"1\" class=\"dataframe\">\n",
       "  <thead>\n",
       "    <tr style=\"text-align: right;\">\n",
       "      <th>subscribing_channel</th>\n",
       "      <th>Email</th>\n",
       "      <th>Facebook</th>\n",
       "      <th>House Ads</th>\n",
       "      <th>Instagram</th>\n",
       "      <th>Push</th>\n",
       "    </tr>\n",
       "    <tr>\n",
       "      <th>date_subscribed</th>\n",
       "      <th></th>\n",
       "      <th></th>\n",
       "      <th></th>\n",
       "      <th></th>\n",
       "      <th></th>\n",
       "    </tr>\n",
       "  </thead>\n",
       "  <tbody>\n",
       "    <tr>\n",
       "      <th>2018-01-01</th>\n",
       "      <td>1.00</td>\n",
       "      <td>0.875000</td>\n",
       "      <td>0.687500</td>\n",
       "      <td>0.750000</td>\n",
       "      <td>1.000000</td>\n",
       "    </tr>\n",
       "    <tr>\n",
       "      <th>2018-01-02</th>\n",
       "      <td>0.75</td>\n",
       "      <td>1.000000</td>\n",
       "      <td>0.588235</td>\n",
       "      <td>0.625000</td>\n",
       "      <td>1.000000</td>\n",
       "    </tr>\n",
       "    <tr>\n",
       "      <th>2018-01-03</th>\n",
       "      <td>NaN</td>\n",
       "      <td>0.800000</td>\n",
       "      <td>0.647059</td>\n",
       "      <td>0.909091</td>\n",
       "      <td>0.666667</td>\n",
       "    </tr>\n",
       "    <tr>\n",
       "      <th>2018-01-04</th>\n",
       "      <td>1.00</td>\n",
       "      <td>0.666667</td>\n",
       "      <td>0.466667</td>\n",
       "      <td>0.500000</td>\n",
       "      <td>NaN</td>\n",
       "    </tr>\n",
       "    <tr>\n",
       "      <th>2018-01-05</th>\n",
       "      <td>1.00</td>\n",
       "      <td>0.571429</td>\n",
       "      <td>0.500000</td>\n",
       "      <td>0.636364</td>\n",
       "      <td>1.000000</td>\n",
       "    </tr>\n",
       "  </tbody>\n",
       "</table>\n",
       "</div>"
      ],
      "text/plain": [
       "subscribing_channel  Email  Facebook  House Ads  Instagram      Push\n",
       "date_subscribed                                                     \n",
       "2018-01-01            1.00  0.875000   0.687500   0.750000  1.000000\n",
       "2018-01-02            0.75  1.000000   0.588235   0.625000  1.000000\n",
       "2018-01-03             NaN  0.800000   0.647059   0.909091  0.666667\n",
       "2018-01-04            1.00  0.666667   0.466667   0.500000       NaN\n",
       "2018-01-05            1.00  0.571429   0.500000   0.636364  1.000000"
      ]
     },
     "execution_count": 57,
     "metadata": {},
     "output_type": "execute_result"
    }
   ],
   "source": [
    "daily_retention = pd.DataFrame(daily_retention.unstack(level = 1))\n",
    "daily_retention.head()"
   ]
  },
  {
   "cell_type": "code",
   "execution_count": 79,
   "id": "496ef844",
   "metadata": {},
   "outputs": [
    {
     "data": {
      "text/plain": [
       "<Figure size 1440x720 with 0 Axes>"
      ]
     },
     "metadata": {},
     "output_type": "display_data"
    },
    {
     "data": {
      "image/png": "[encoded data removed]",
      "text/plain": [
       "<Figure size 432x288 with 1 Axes>"
      ]
     },
     "metadata": {
      "needs_background": "light"
     },
     "output_type": "display_data"
    }
   ],
   "source": [
    "plt.figure(figsize = (20,10))\n",
    "daily_retention.fillna(0).plot()\n",
    "plt.xticks(rotation = 30)\n",
    "plt.xlabel('Subscribed date')\n",
    "plt.ylabel('Retention rate')\n",
    "plt.title('Cohort chart')\n",
    "plt.legend(loc = 'upper left', labels = daily_retention. columns.values )\n",
    "plt.show()"
   ]
  },
  {
   "cell_type": "code",
   "execution_count": 80,
   "id": "31097fea",
   "metadata": {},
   "outputs": [
    {
     "data": {
      "image/png": "[encoded data removed]",
      "text/plain": [
       "<Figure size 432x288 with 1 Axes>"
      ]
     },
     "metadata": {
      "needs_background": "light"
     },
     "output_type": "display_data"
    },
    {
     "data": {
      "image/png": "[encoded data removed]",
      "text/plain": [
       "<Figure size 432x288 with 1 Axes>"
      ]
     },
     "metadata": {
      "needs_background": "light"
     },
     "output_type": "display_data"
    },
    {
     "data": {
      "image/png": "[encoded data removed]",
      "text/plain": [
       "<Figure size 432x288 with 1 Axes>"
      ]
     },
     "metadata": {
      "needs_background": "light"
     },
     "output_type": "display_data"
    },
    {
     "data": {
      "image/png": "[encoded data removed]",
      "text/plain": [
       "<Figure size 432x288 with 1 Axes>"
      ]
     },
     "metadata": {
      "needs_background": "light"
     },
     "output_type": "display_data"
    },
    {
     "data": {
      "image/png": "[encoded data removed]",
      "text/plain": [
       "<Figure size 432x288 with 1 Axes>"
      ]
     },
     "metadata": {
      "needs_background": "light"
     },
     "output_type": "display_data"
    }
   ],
   "source": [
    "def trend_plot(df):\n",
    "    for col in df:\n",
    "        plt.plot(df.index, df[col].fillna(0))\n",
    "        plt.title('Daily ' + col + 'retention rate')\n",
    "        plt.xlabel('Date')\n",
    "        plt.xticks(rotation = 30)\n",
    "        plt.ylabel('retention rate')\n",
    "        plt.show()\n",
    "\n",
    "trend_plot(daily_retention)"
   ]
  },
  {
   "cell_type": "code",
   "execution_count": 83,
   "id": "0af3126f",
   "metadata": {},
   "outputs": [
    {
     "data": {
      "image/png": "[encoded data removed]",
      "text/plain": [
       "<Figure size 432x288 with 1 Axes>"
      ]
     },
     "metadata": {
      "needs_background": "light"
     },
     "output_type": "display_data"
    },
    {
     "data": {
      "image/png": "[encoded data removed]",
      "text/plain": [
       "<Figure size 432x288 with 1 Axes>"
      ]
     },
     "metadata": {
      "needs_background": "light"
     },
     "output_type": "display_data"
    },
    {
     "data": {
      "image/png": "[encoded data removed]",
      "text/plain": [
       "<Figure size 432x288 with 1 Axes>"
      ]
     },
     "metadata": {
      "needs_background": "light"
     },
     "output_type": "display_data"
    },
    {
     "data": {
      "image/png": "[encoded data removed]",
      "text/plain": [
       "<Figure size 432x288 with 1 Axes>"
      ]
     },
     "metadata": {
      "needs_background": "light"
     },
     "output_type": "display_data"
    },
    {
     "data": {
      "image/png": "[encoded data removed]",
      "text/plain": [
       "<Figure size 432x288 with 1 Axes>"
      ]
     },
     "metadata": {
      "needs_background": "light"
     },
     "output_type": "display_data"
    },
    {
     "data": {
      "image/png": "[encoded data removed]",
      "text/plain": [
       "<Figure size 432x288 with 1 Axes>"
      ]
     },
     "metadata": {
      "needs_background": "light"
     },
     "output_type": "display_data"
    },
    {
     "data": {
      "image/png": "[encoded data removed]",
      "text/plain": [
       "<Figure size 432x288 with 1 Axes>"
      ]
     },
     "metadata": {
      "needs_background": "light"
     },
     "output_type": "display_data"
    }
   ],
   "source": [
    "# use function to get insight at cohort groups by age \n",
    "age_r = retention_rate(mkt, ['date_served','age_group'])\n",
    "age_r = pd.DataFrame(age_r.unstack(level = 1))\n",
    "trend_plot(age_r)"
   ]
  },
  {
   "cell_type": "code",
   "execution_count": 166,
   "id": "e5b13d63",
   "metadata": {},
   "outputs": [
    {
     "data": {
      "text/plain": [
       "subscribing_channel\n",
       "Email        0.838542\n",
       "Facebook     1.000000\n",
       "House Ads    1.000000\n",
       "Instagram    1.000000\n",
       "Push         1.000000\n",
       "Name: user_id, dtype: float64"
      ]
     },
     "execution_count": 166,
     "metadata": {},
     "output_type": "execute_result"
    }
   ],
   "source": [
    "def conversion_rate(df,col):\n",
    "    converted = mkt[mkt['converted'] == True].groupby(col)['user_id'].nunique()\n",
    "    total = mkt.groupby(col)['user_id'].nunique()\n",
    "    conversion_rate = converted / total\n",
    "    return conversion_rate\n",
    "\n",
    "conversion_rate(mkt, 'subscribing_channel')"
   ]
  },
  {
   "cell_type": "markdown",
   "id": "a30b577c",
   "metadata": {},
   "source": [
    "## Inconsistence checking"
   ]
  },
  {
   "cell_type": "markdown",
   "id": "39840b69",
   "metadata": {},
   "source": [
    "*Which weekday the users like to unscribe the channel??*"
   ]
  },
  {
   "cell_type": "code",
   "execution_count": 91,
   "id": "8ada10cd",
   "metadata": {},
   "outputs": [
    {
     "data": {
      "image/png": "[encoded data removed]",
      "text/plain": [
       "<Figure size 432x288 with 1 Axes>"
      ]
     },
     "metadata": {
      "needs_background": "light"
     },
     "output_type": "display_data"
    }
   ],
   "source": [
    "mkt['dow'] = mkt['date_subscribed'].dt.dayofweek\n",
    "dow = retention_rate(mkt,['dow'])\n",
    "dow.plot()\n",
    "plt.xlabel('Day of week')\n",
    "plt.ylabel('Retention rate')\n",
    "plt.title('Retention rate by week')\n",
    "plt.ylim(0)\n",
    "plt.show()"
   ]
  },
  {
   "cell_type": "markdown",
   "id": "03b4d95b",
   "metadata": {},
   "source": [
    "*The impact of the users whose displayed language is not their preferred language*"
   ]
  },
  {
   "cell_type": "code",
   "execution_count": 152,
   "id": "408ca67e",
   "metadata": {},
   "outputs": [],
   "source": [
    "df = mkt[['date_served','language_displayed','language_preferred']]\n",
    "df=pd.DataFrame(df)"
   ]
  },
  {
   "cell_type": "code",
   "execution_count": 153,
   "id": "6832a31e",
   "metadata": {},
   "outputs": [
    {
     "data": {
      "text/html": [
       "<div>\n",
       "<style scoped>\n",
       "    .dataframe tbody tr th:only-of-type {\n",
       "        vertical-align: middle;\n",
       "    }\n",
       "\n",
       "    .dataframe tbody tr th {\n",
       "        vertical-align: top;\n",
       "    }\n",
       "\n",
       "    .dataframe thead th {\n",
       "        text-align: right;\n",
       "    }\n",
       "</style>\n",
       "<table border=\"1\" class=\"dataframe\">\n",
       "  <thead>\n",
       "    <tr style=\"text-align: right;\">\n",
       "      <th></th>\n",
       "      <th>date_served</th>\n",
       "      <th>language_displayed</th>\n",
       "      <th>language_preferred</th>\n",
       "      <th>consistence</th>\n",
       "    </tr>\n",
       "  </thead>\n",
       "  <tbody>\n",
       "    <tr>\n",
       "      <th>0</th>\n",
       "      <td>2018-01-01</td>\n",
       "      <td>English</td>\n",
       "      <td>English</td>\n",
       "      <td>0</td>\n",
       "    </tr>\n",
       "    <tr>\n",
       "      <th>1</th>\n",
       "      <td>2018-01-01</td>\n",
       "      <td>English</td>\n",
       "      <td>English</td>\n",
       "      <td>0</td>\n",
       "    </tr>\n",
       "    <tr>\n",
       "      <th>2</th>\n",
       "      <td>2018-01-01</td>\n",
       "      <td>English</td>\n",
       "      <td>English</td>\n",
       "      <td>0</td>\n",
       "    </tr>\n",
       "    <tr>\n",
       "      <th>3</th>\n",
       "      <td>2018-01-01</td>\n",
       "      <td>English</td>\n",
       "      <td>English</td>\n",
       "      <td>0</td>\n",
       "    </tr>\n",
       "    <tr>\n",
       "      <th>4</th>\n",
       "      <td>2018-01-01</td>\n",
       "      <td>English</td>\n",
       "      <td>English</td>\n",
       "      <td>0</td>\n",
       "    </tr>\n",
       "    <tr>\n",
       "      <th>...</th>\n",
       "      <td>...</td>\n",
       "      <td>...</td>\n",
       "      <td>...</td>\n",
       "      <td>...</td>\n",
       "    </tr>\n",
       "    <tr>\n",
       "      <th>10032</th>\n",
       "      <td>2018-01-17</td>\n",
       "      <td>German</td>\n",
       "      <td>German</td>\n",
       "      <td>0</td>\n",
       "    </tr>\n",
       "    <tr>\n",
       "      <th>10033</th>\n",
       "      <td>2018-01-17</td>\n",
       "      <td>German</td>\n",
       "      <td>German</td>\n",
       "      <td>0</td>\n",
       "    </tr>\n",
       "    <tr>\n",
       "      <th>10034</th>\n",
       "      <td>2018-01-05</td>\n",
       "      <td>German</td>\n",
       "      <td>German</td>\n",
       "      <td>0</td>\n",
       "    </tr>\n",
       "    <tr>\n",
       "      <th>10035</th>\n",
       "      <td>2018-01-17</td>\n",
       "      <td>German</td>\n",
       "      <td>German</td>\n",
       "      <td>0</td>\n",
       "    </tr>\n",
       "    <tr>\n",
       "      <th>10036</th>\n",
       "      <td>2018-01-06</td>\n",
       "      <td>German</td>\n",
       "      <td>German</td>\n",
       "      <td>0</td>\n",
       "    </tr>\n",
       "  </tbody>\n",
       "</table>\n",
       "<p>10037 rows × 4 columns</p>\n",
       "</div>"
      ],
      "text/plain": [
       "      date_served language_displayed language_preferred  consistence\n",
       "0      2018-01-01            English            English            0\n",
       "1      2018-01-01            English            English            0\n",
       "2      2018-01-01            English            English            0\n",
       "3      2018-01-01            English            English            0\n",
       "4      2018-01-01            English            English            0\n",
       "...           ...                ...                ...          ...\n",
       "10032  2018-01-17             German             German            0\n",
       "10033  2018-01-17             German             German            0\n",
       "10034  2018-01-05             German             German            0\n",
       "10035  2018-01-17             German             German            0\n",
       "10036  2018-01-06             German             German            0\n",
       "\n",
       "[10037 rows x 4 columns]"
      ]
     },
     "execution_count": 153,
     "metadata": {},
     "output_type": "execute_result"
    }
   ],
   "source": [
    "df['consistence'] = np.where(df['language_displayed'] == df['language_preferred'], 0, 1)\n",
    "df"
   ]
  },
  {
   "cell_type": "code",
   "execution_count": 165,
   "id": "2262edc0",
   "metadata": {},
   "outputs": [
    {
     "data": {
      "image/png": "[encoded data removed]",
      "text/plain": [
       "<Figure size 432x288 with 1 Axes>"
      ]
     },
     "metadata": {
      "needs_background": "light"
     },
     "output_type": "display_data"
    }
   ],
   "source": [
    "consistence = df[(df['consistence'] == 1)&(df['date_served']>='2018-01-08')]\\\n",
    ".groupby('date_served')['consistence'].sum()\n",
    "consistence.plot()\n",
    "plt.ylim(0)\n",
    "plt.show()"
   ]
  },
  {
   "cell_type": "code",
   "execution_count": 169,
   "id": "56c33688",
   "metadata": {},
   "outputs": [
    {
     "data": {
      "text/plain": [
       "language_displayed\n",
       "Arabic     0.500000\n",
       "English    0.131260\n",
       "German     0.716216\n",
       "Spanish    0.200000\n",
       "Name: user_id, dtype: float64"
      ]
     },
     "execution_count": 169,
     "metadata": {},
     "output_type": "execute_result"
    }
   ],
   "source": [
    "# calculate pre-error conversion rate\n",
    "# bug arose sometimes around 2018-01-11\n",
    "lang_bug = mkt[mkt['date_served'] < '2018-01-11']\n",
    "lang_conv = conversion_rate(lang_bug,'language_displayed')\n",
    "lang_conv"
   ]
  },
  {
   "cell_type": "code",
   "execution_count": 170,
   "id": "65be5b00",
   "metadata": {},
   "outputs": [
    {
     "name": "stdout",
     "output_type": "stream",
     "text": [
      "Spanish index: 1.5236981934112646\n",
      "Arabic index: 3.8092454835281613\n",
      "German index: 5.456486773702502\n"
     ]
    }
   ],
   "source": [
    "# assessing impact\n",
    "# index other language conversion rate aganist English\n",
    "spanish_index = lang_conv['Spanish']/lang_conv['English']\n",
    "arabic_index = lang_conv['Arabic']/lang_conv['English']\n",
    "german_index = lang_conv['German']/lang_conv['English']\n",
    "print('Spanish index:', spanish_index)\n",
    "print('Arabic index:', arabic_index)\n",
    "print('German index:', german_index)\n",
    "# German-speaking users convert 5.46 times the rate of Englsih-speaking users"
   ]
  },
  {
   "cell_type": "code",
   "execution_count": 187,
   "id": "5a40d878",
   "metadata": {},
   "outputs": [
    {
     "data": {
      "text/html": [
       "<div>\n",
       "<style scoped>\n",
       "    .dataframe tbody tr th:only-of-type {\n",
       "        vertical-align: middle;\n",
       "    }\n",
       "\n",
       "    .dataframe tbody tr th {\n",
       "        vertical-align: top;\n",
       "    }\n",
       "\n",
       "    .dataframe thead tr th {\n",
       "        text-align: left;\n",
       "    }\n",
       "\n",
       "    .dataframe thead tr:last-of-type th {\n",
       "        text-align: right;\n",
       "    }\n",
       "</style>\n",
       "<table border=\"1\" class=\"dataframe\">\n",
       "  <thead>\n",
       "    <tr>\n",
       "      <th></th>\n",
       "      <th colspan=\"4\" halign=\"left\">user_id</th>\n",
       "      <th colspan=\"4\" halign=\"left\">converted</th>\n",
       "    </tr>\n",
       "    <tr>\n",
       "      <th>language_preferred</th>\n",
       "      <th>Arabic</th>\n",
       "      <th>English</th>\n",
       "      <th>German</th>\n",
       "      <th>Spanish</th>\n",
       "      <th>Arabic</th>\n",
       "      <th>English</th>\n",
       "      <th>German</th>\n",
       "      <th>Spanish</th>\n",
       "    </tr>\n",
       "    <tr>\n",
       "      <th>date_served</th>\n",
       "      <th></th>\n",
       "      <th></th>\n",
       "      <th></th>\n",
       "      <th></th>\n",
       "      <th></th>\n",
       "      <th></th>\n",
       "      <th></th>\n",
       "      <th></th>\n",
       "    </tr>\n",
       "  </thead>\n",
       "  <tbody>\n",
       "    <tr>\n",
       "      <th>2018-01-01</th>\n",
       "      <td>4.0</td>\n",
       "      <td>342.0</td>\n",
       "      <td>5.0</td>\n",
       "      <td>11.0</td>\n",
       "      <td>3.0</td>\n",
       "      <td>34.0</td>\n",
       "      <td>1.0</td>\n",
       "      <td>0.0</td>\n",
       "    </tr>\n",
       "    <tr>\n",
       "      <th>2018-01-02</th>\n",
       "      <td>4.0</td>\n",
       "      <td>355.0</td>\n",
       "      <td>5.0</td>\n",
       "      <td>10.0</td>\n",
       "      <td>0.0</td>\n",
       "      <td>36.0</td>\n",
       "      <td>3.0</td>\n",
       "      <td>0.0</td>\n",
       "    </tr>\n",
       "    <tr>\n",
       "      <th>2018-01-03</th>\n",
       "      <td>3.0</td>\n",
       "      <td>334.0</td>\n",
       "      <td>3.0</td>\n",
       "      <td>8.0</td>\n",
       "      <td>0.0</td>\n",
       "      <td>35.0</td>\n",
       "      <td>1.0</td>\n",
       "      <td>1.0</td>\n",
       "    </tr>\n",
       "    <tr>\n",
       "      <th>2018-01-04</th>\n",
       "      <td>2.0</td>\n",
       "      <td>305.0</td>\n",
       "      <td>2.0</td>\n",
       "      <td>14.0</td>\n",
       "      <td>0.0</td>\n",
       "      <td>34.0</td>\n",
       "      <td>0.0</td>\n",
       "      <td>3.0</td>\n",
       "    </tr>\n",
       "    <tr>\n",
       "      <th>2018-01-05</th>\n",
       "      <td>1.0</td>\n",
       "      <td>303.0</td>\n",
       "      <td>2.0</td>\n",
       "      <td>14.0</td>\n",
       "      <td>1.0</td>\n",
       "      <td>38.0</td>\n",
       "      <td>0.0</td>\n",
       "      <td>3.0</td>\n",
       "    </tr>\n",
       "  </tbody>\n",
       "</table>\n",
       "</div>"
      ],
      "text/plain": [
       "                   user_id                        converted                 \\\n",
       "language_preferred  Arabic English German Spanish    Arabic English German   \n",
       "date_served                                                                  \n",
       "2018-01-01             4.0   342.0    5.0    11.0       3.0    34.0    1.0   \n",
       "2018-01-02             4.0   355.0    5.0    10.0       0.0    36.0    3.0   \n",
       "2018-01-03             3.0   334.0    3.0     8.0       0.0    35.0    1.0   \n",
       "2018-01-04             2.0   305.0    2.0    14.0       0.0    34.0    0.0   \n",
       "2018-01-05             1.0   303.0    2.0    14.0       1.0    38.0    0.0   \n",
       "\n",
       "                            \n",
       "language_preferred Spanish  \n",
       "date_served                 \n",
       "2018-01-01             0.0  \n",
       "2018-01-02             0.0  \n",
       "2018-01-03             1.0  \n",
       "2018-01-04             3.0  \n",
       "2018-01-05             3.0  "
      ]
     },
     "execution_count": 187,
     "metadata": {},
     "output_type": "execute_result"
    }
   ],
   "source": [
    "# create actual conversion dataframe\n",
    "lang_conversion = mkt.groupby(['date_served','language_preferred'])\\\n",
    ".agg({'user_id':'nunique', 'converted':'sum'})\n",
    "lang_conversion = pd.DataFrame(lang_conversion.unstack(level = 1))\n",
    "lang_conversion.fillna(0).head()"
   ]
  },
  {
   "cell_type": "code",
   "execution_count": 205,
   "id": "613b4dfd",
   "metadata": {},
   "outputs": [
    {
     "data": {
      "text/html": [
       "<div>\n",
       "<style scoped>\n",
       "    .dataframe tbody tr th:only-of-type {\n",
       "        vertical-align: middle;\n",
       "    }\n",
       "\n",
       "    .dataframe tbody tr th {\n",
       "        vertical-align: top;\n",
       "    }\n",
       "\n",
       "    .dataframe thead tr th {\n",
       "        text-align: left;\n",
       "    }\n",
       "\n",
       "    .dataframe thead tr:last-of-type th {\n",
       "        text-align: right;\n",
       "    }\n",
       "</style>\n",
       "<table border=\"1\" class=\"dataframe\">\n",
       "  <thead>\n",
       "    <tr>\n",
       "      <th></th>\n",
       "      <th colspan=\"4\" halign=\"left\">user_id</th>\n",
       "      <th colspan=\"4\" halign=\"left\">converted</th>\n",
       "      <th>actual_english_rate</th>\n",
       "      <th>exp_spanish_rate</th>\n",
       "      <th>exp_arabic_rate</th>\n",
       "      <th>exp_german_rate</th>\n",
       "      <th>exp_spanish_conv</th>\n",
       "      <th>exp_arabic_conv</th>\n",
       "      <th>exp_german_conv</th>\n",
       "    </tr>\n",
       "    <tr>\n",
       "      <th>language_preferred</th>\n",
       "      <th>Arabic</th>\n",
       "      <th>English</th>\n",
       "      <th>German</th>\n",
       "      <th>Spanish</th>\n",
       "      <th>Arabic</th>\n",
       "      <th>English</th>\n",
       "      <th>German</th>\n",
       "      <th>Spanish</th>\n",
       "      <th></th>\n",
       "      <th></th>\n",
       "      <th></th>\n",
       "      <th></th>\n",
       "      <th></th>\n",
       "      <th></th>\n",
       "      <th></th>\n",
       "    </tr>\n",
       "    <tr>\n",
       "      <th>date_served</th>\n",
       "      <th></th>\n",
       "      <th></th>\n",
       "      <th></th>\n",
       "      <th></th>\n",
       "      <th></th>\n",
       "      <th></th>\n",
       "      <th></th>\n",
       "      <th></th>\n",
       "      <th></th>\n",
       "      <th></th>\n",
       "      <th></th>\n",
       "      <th></th>\n",
       "      <th></th>\n",
       "      <th></th>\n",
       "      <th></th>\n",
       "    </tr>\n",
       "  </thead>\n",
       "  <tbody>\n",
       "    <tr>\n",
       "      <th>2018-01-11</th>\n",
       "      <td>9.0</td>\n",
       "      <td>283.0</td>\n",
       "      <td>2.0</td>\n",
       "      <td>16.0</td>\n",
       "      <td>0.0</td>\n",
       "      <td>28.0</td>\n",
       "      <td>0.0</td>\n",
       "      <td>0.0</td>\n",
       "      <td>28.0</td>\n",
       "      <td>42.663549</td>\n",
       "      <td>106.658874</td>\n",
       "      <td>152.781630</td>\n",
       "      <td>6.826168</td>\n",
       "      <td>9.599299</td>\n",
       "      <td>3.055633</td>\n",
       "    </tr>\n",
       "    <tr>\n",
       "      <th>2018-01-12</th>\n",
       "      <td>4.0</td>\n",
       "      <td>282.0</td>\n",
       "      <td>4.0</td>\n",
       "      <td>11.0</td>\n",
       "      <td>0.0</td>\n",
       "      <td>25.0</td>\n",
       "      <td>0.0</td>\n",
       "      <td>1.0</td>\n",
       "      <td>25.0</td>\n",
       "      <td>38.092455</td>\n",
       "      <td>95.231137</td>\n",
       "      <td>136.412169</td>\n",
       "      <td>4.190170</td>\n",
       "      <td>3.809245</td>\n",
       "      <td>5.456487</td>\n",
       "    </tr>\n",
       "    <tr>\n",
       "      <th>2018-01-13</th>\n",
       "      <td>8.0</td>\n",
       "      <td>276.0</td>\n",
       "      <td>5.0</td>\n",
       "      <td>17.0</td>\n",
       "      <td>1.0</td>\n",
       "      <td>26.0</td>\n",
       "      <td>1.0</td>\n",
       "      <td>0.0</td>\n",
       "      <td>26.0</td>\n",
       "      <td>39.616153</td>\n",
       "      <td>99.040383</td>\n",
       "      <td>141.868656</td>\n",
       "      <td>6.734746</td>\n",
       "      <td>7.923231</td>\n",
       "      <td>7.093433</td>\n",
       "    </tr>\n",
       "  </tbody>\n",
       "</table>\n",
       "</div>"
      ],
      "text/plain": [
       "                   user_id                        converted                 \\\n",
       "language_preferred  Arabic English German Spanish    Arabic English German   \n",
       "date_served                                                                  \n",
       "2018-01-11             9.0   283.0    2.0    16.0       0.0    28.0    0.0   \n",
       "2018-01-12             4.0   282.0    4.0    11.0       0.0    25.0    0.0   \n",
       "2018-01-13             8.0   276.0    5.0    17.0       1.0    26.0    1.0   \n",
       "\n",
       "                           actual_english_rate exp_spanish_rate  \\\n",
       "language_preferred Spanish                                        \n",
       "date_served                                                       \n",
       "2018-01-11             0.0                28.0        42.663549   \n",
       "2018-01-12             1.0                25.0        38.092455   \n",
       "2018-01-13             0.0                26.0        39.616153   \n",
       "\n",
       "                   exp_arabic_rate exp_german_rate exp_spanish_conv  \\\n",
       "language_preferred                                                    \n",
       "date_served                                                           \n",
       "2018-01-11              106.658874      152.781630         6.826168   \n",
       "2018-01-12               95.231137      136.412169         4.190170   \n",
       "2018-01-13               99.040383      141.868656         6.734746   \n",
       "\n",
       "                   exp_arabic_conv exp_german_conv  \n",
       "language_preferred                                  \n",
       "date_served                                         \n",
       "2018-01-11                9.599299        3.055633  \n",
       "2018-01-12                3.809245        5.456487  \n",
       "2018-01-13                7.923231        7.093433  "
      ]
     },
     "execution_count": 205,
     "metadata": {},
     "output_type": "execute_result"
    }
   ],
   "source": [
    "# create english conversion rate column for affected period\n",
    "lang_conversion = lang_conversion.loc[ '2018-01-11' : '2018-01-31' ]\n",
    "lang_conversion['actual_english_rate'] =\\\n",
    "lang_conversion[('converted','English')]\n",
    "lang_conversion.head(3)"
   ]
  },
  {
   "cell_type": "code",
   "execution_count": 192,
   "id": "f8225db9",
   "metadata": {},
   "outputs": [
    {
     "data": {
      "text/html": [
       "<div>\n",
       "<style scoped>\n",
       "    .dataframe tbody tr th:only-of-type {\n",
       "        vertical-align: middle;\n",
       "    }\n",
       "\n",
       "    .dataframe tbody tr th {\n",
       "        vertical-align: top;\n",
       "    }\n",
       "\n",
       "    .dataframe thead tr th {\n",
       "        text-align: left;\n",
       "    }\n",
       "\n",
       "    .dataframe thead tr:last-of-type th {\n",
       "        text-align: right;\n",
       "    }\n",
       "</style>\n",
       "<table border=\"1\" class=\"dataframe\">\n",
       "  <thead>\n",
       "    <tr>\n",
       "      <th></th>\n",
       "      <th colspan=\"4\" halign=\"left\">user_id</th>\n",
       "      <th colspan=\"4\" halign=\"left\">converted</th>\n",
       "      <th>actual_english_rate</th>\n",
       "      <th>exp_spanish_rate</th>\n",
       "      <th>exp_arabic_rate</th>\n",
       "      <th>exp_german_rate</th>\n",
       "    </tr>\n",
       "    <tr>\n",
       "      <th>language_preferred</th>\n",
       "      <th>Arabic</th>\n",
       "      <th>English</th>\n",
       "      <th>German</th>\n",
       "      <th>Spanish</th>\n",
       "      <th>Arabic</th>\n",
       "      <th>English</th>\n",
       "      <th>German</th>\n",
       "      <th>Spanish</th>\n",
       "      <th></th>\n",
       "      <th></th>\n",
       "      <th></th>\n",
       "      <th></th>\n",
       "    </tr>\n",
       "    <tr>\n",
       "      <th>date_served</th>\n",
       "      <th></th>\n",
       "      <th></th>\n",
       "      <th></th>\n",
       "      <th></th>\n",
       "      <th></th>\n",
       "      <th></th>\n",
       "      <th></th>\n",
       "      <th></th>\n",
       "      <th></th>\n",
       "      <th></th>\n",
       "      <th></th>\n",
       "      <th></th>\n",
       "    </tr>\n",
       "  </thead>\n",
       "  <tbody>\n",
       "    <tr>\n",
       "      <th>2018-01-11</th>\n",
       "      <td>9.0</td>\n",
       "      <td>283.0</td>\n",
       "      <td>2.0</td>\n",
       "      <td>16.0</td>\n",
       "      <td>0.0</td>\n",
       "      <td>28.0</td>\n",
       "      <td>0.0</td>\n",
       "      <td>0.0</td>\n",
       "      <td>28.0</td>\n",
       "      <td>42.663549</td>\n",
       "      <td>106.658874</td>\n",
       "      <td>152.781630</td>\n",
       "    </tr>\n",
       "    <tr>\n",
       "      <th>2018-01-12</th>\n",
       "      <td>4.0</td>\n",
       "      <td>282.0</td>\n",
       "      <td>4.0</td>\n",
       "      <td>11.0</td>\n",
       "      <td>0.0</td>\n",
       "      <td>25.0</td>\n",
       "      <td>0.0</td>\n",
       "      <td>1.0</td>\n",
       "      <td>25.0</td>\n",
       "      <td>38.092455</td>\n",
       "      <td>95.231137</td>\n",
       "      <td>136.412169</td>\n",
       "    </tr>\n",
       "    <tr>\n",
       "      <th>2018-01-13</th>\n",
       "      <td>8.0</td>\n",
       "      <td>276.0</td>\n",
       "      <td>5.0</td>\n",
       "      <td>17.0</td>\n",
       "      <td>1.0</td>\n",
       "      <td>26.0</td>\n",
       "      <td>1.0</td>\n",
       "      <td>0.0</td>\n",
       "      <td>26.0</td>\n",
       "      <td>39.616153</td>\n",
       "      <td>99.040383</td>\n",
       "      <td>141.868656</td>\n",
       "    </tr>\n",
       "  </tbody>\n",
       "</table>\n",
       "</div>"
      ],
      "text/plain": [
       "                   user_id                        converted                 \\\n",
       "language_preferred  Arabic English German Spanish    Arabic English German   \n",
       "date_served                                                                  \n",
       "2018-01-11             9.0   283.0    2.0    16.0       0.0    28.0    0.0   \n",
       "2018-01-12             4.0   282.0    4.0    11.0       0.0    25.0    0.0   \n",
       "2018-01-13             8.0   276.0    5.0    17.0       1.0    26.0    1.0   \n",
       "\n",
       "                           actual_english_rate exp_spanish_rate  \\\n",
       "language_preferred Spanish                                        \n",
       "date_served                                                       \n",
       "2018-01-11             0.0                28.0        42.663549   \n",
       "2018-01-12             1.0                25.0        38.092455   \n",
       "2018-01-13             0.0                26.0        39.616153   \n",
       "\n",
       "                   exp_arabic_rate exp_german_rate  \n",
       "language_preferred                                  \n",
       "date_served                                         \n",
       "2018-01-11              106.658874      152.781630  \n",
       "2018-01-12               95.231137      136.412169  \n",
       "2018-01-13               99.040383      141.868656  "
      ]
     },
     "execution_count": 192,
     "metadata": {},
     "output_type": "execute_result"
    }
   ],
   "source": [
    "# create expected conversion rates for each langauge\n",
    "lang_conversion['exp_spanish_rate'] = \\\n",
    "lang_conversion['actual_english_rate'] * spanish_index\n",
    "\n",
    "lang_conversion['exp_arabic_rate'] = \\\n",
    "lang_conversion['actual_english_rate'] * arabic_index\n",
    "\n",
    "lang_conversion['exp_german_rate'] = \\\n",
    "lang_conversion['actual_english_rate'] * german_index\n",
    "\n",
    "lang_conversion.head(3)"
   ]
  },
  {
   "cell_type": "code",
   "execution_count": 201,
   "id": "e353dba6",
   "metadata": {},
   "outputs": [
    {
     "data": {
      "text/html": [
       "<div>\n",
       "<style scoped>\n",
       "    .dataframe tbody tr th:only-of-type {\n",
       "        vertical-align: middle;\n",
       "    }\n",
       "\n",
       "    .dataframe tbody tr th {\n",
       "        vertical-align: top;\n",
       "    }\n",
       "\n",
       "    .dataframe thead tr th {\n",
       "        text-align: left;\n",
       "    }\n",
       "\n",
       "    .dataframe thead tr:last-of-type th {\n",
       "        text-align: right;\n",
       "    }\n",
       "</style>\n",
       "<table border=\"1\" class=\"dataframe\">\n",
       "  <thead>\n",
       "    <tr>\n",
       "      <th></th>\n",
       "      <th colspan=\"4\" halign=\"left\">user_id</th>\n",
       "      <th colspan=\"4\" halign=\"left\">converted</th>\n",
       "      <th>actual_english_rate</th>\n",
       "      <th>exp_spanish_rate</th>\n",
       "      <th>exp_arabic_rate</th>\n",
       "      <th>exp_german_rate</th>\n",
       "      <th>exp_spanish_conv</th>\n",
       "      <th>exp_arabic_conv</th>\n",
       "      <th>exp_german_conv</th>\n",
       "    </tr>\n",
       "    <tr>\n",
       "      <th>language_preferred</th>\n",
       "      <th>Arabic</th>\n",
       "      <th>English</th>\n",
       "      <th>German</th>\n",
       "      <th>Spanish</th>\n",
       "      <th>Arabic</th>\n",
       "      <th>English</th>\n",
       "      <th>German</th>\n",
       "      <th>Spanish</th>\n",
       "      <th></th>\n",
       "      <th></th>\n",
       "      <th></th>\n",
       "      <th></th>\n",
       "      <th></th>\n",
       "      <th></th>\n",
       "      <th></th>\n",
       "    </tr>\n",
       "    <tr>\n",
       "      <th>date_served</th>\n",
       "      <th></th>\n",
       "      <th></th>\n",
       "      <th></th>\n",
       "      <th></th>\n",
       "      <th></th>\n",
       "      <th></th>\n",
       "      <th></th>\n",
       "      <th></th>\n",
       "      <th></th>\n",
       "      <th></th>\n",
       "      <th></th>\n",
       "      <th></th>\n",
       "      <th></th>\n",
       "      <th></th>\n",
       "      <th></th>\n",
       "    </tr>\n",
       "  </thead>\n",
       "  <tbody>\n",
       "    <tr>\n",
       "      <th>2018-01-11</th>\n",
       "      <td>9.0</td>\n",
       "      <td>283.0</td>\n",
       "      <td>2.0</td>\n",
       "      <td>16.0</td>\n",
       "      <td>0.0</td>\n",
       "      <td>28.0</td>\n",
       "      <td>0.0</td>\n",
       "      <td>0.0</td>\n",
       "      <td>28.0</td>\n",
       "      <td>42.663549</td>\n",
       "      <td>106.658874</td>\n",
       "      <td>152.781630</td>\n",
       "      <td>6.826168</td>\n",
       "      <td>9.599299</td>\n",
       "      <td>3.055633</td>\n",
       "    </tr>\n",
       "    <tr>\n",
       "      <th>2018-01-12</th>\n",
       "      <td>4.0</td>\n",
       "      <td>282.0</td>\n",
       "      <td>4.0</td>\n",
       "      <td>11.0</td>\n",
       "      <td>0.0</td>\n",
       "      <td>25.0</td>\n",
       "      <td>0.0</td>\n",
       "      <td>1.0</td>\n",
       "      <td>25.0</td>\n",
       "      <td>38.092455</td>\n",
       "      <td>95.231137</td>\n",
       "      <td>136.412169</td>\n",
       "      <td>4.190170</td>\n",
       "      <td>3.809245</td>\n",
       "      <td>5.456487</td>\n",
       "    </tr>\n",
       "    <tr>\n",
       "      <th>2018-01-13</th>\n",
       "      <td>8.0</td>\n",
       "      <td>276.0</td>\n",
       "      <td>5.0</td>\n",
       "      <td>17.0</td>\n",
       "      <td>1.0</td>\n",
       "      <td>26.0</td>\n",
       "      <td>1.0</td>\n",
       "      <td>0.0</td>\n",
       "      <td>26.0</td>\n",
       "      <td>39.616153</td>\n",
       "      <td>99.040383</td>\n",
       "      <td>141.868656</td>\n",
       "      <td>6.734746</td>\n",
       "      <td>7.923231</td>\n",
       "      <td>7.093433</td>\n",
       "    </tr>\n",
       "    <tr>\n",
       "      <th>2018-01-14</th>\n",
       "      <td>5.0</td>\n",
       "      <td>285.0</td>\n",
       "      <td>3.0</td>\n",
       "      <td>12.0</td>\n",
       "      <td>0.0</td>\n",
       "      <td>28.0</td>\n",
       "      <td>0.0</td>\n",
       "      <td>0.0</td>\n",
       "      <td>28.0</td>\n",
       "      <td>42.663549</td>\n",
       "      <td>106.658874</td>\n",
       "      <td>152.781630</td>\n",
       "      <td>5.119626</td>\n",
       "      <td>5.332944</td>\n",
       "      <td>4.583449</td>\n",
       "    </tr>\n",
       "    <tr>\n",
       "      <th>2018-01-15</th>\n",
       "      <td>6.0</td>\n",
       "      <td>729.0</td>\n",
       "      <td>11.0</td>\n",
       "      <td>21.0</td>\n",
       "      <td>0.0</td>\n",
       "      <td>82.0</td>\n",
       "      <td>4.0</td>\n",
       "      <td>5.0</td>\n",
       "      <td>82.0</td>\n",
       "      <td>124.943252</td>\n",
       "      <td>312.358130</td>\n",
       "      <td>447.431915</td>\n",
       "      <td>26.238083</td>\n",
       "      <td>18.741488</td>\n",
       "      <td>49.217511</td>\n",
       "    </tr>\n",
       "  </tbody>\n",
       "</table>\n",
       "</div>"
      ],
      "text/plain": [
       "                   user_id                        converted                 \\\n",
       "language_preferred  Arabic English German Spanish    Arabic English German   \n",
       "date_served                                                                  \n",
       "2018-01-11             9.0   283.0    2.0    16.0       0.0    28.0    0.0   \n",
       "2018-01-12             4.0   282.0    4.0    11.0       0.0    25.0    0.0   \n",
       "2018-01-13             8.0   276.0    5.0    17.0       1.0    26.0    1.0   \n",
       "2018-01-14             5.0   285.0    3.0    12.0       0.0    28.0    0.0   \n",
       "2018-01-15             6.0   729.0   11.0    21.0       0.0    82.0    4.0   \n",
       "\n",
       "                           actual_english_rate exp_spanish_rate  \\\n",
       "language_preferred Spanish                                        \n",
       "date_served                                                       \n",
       "2018-01-11             0.0                28.0        42.663549   \n",
       "2018-01-12             1.0                25.0        38.092455   \n",
       "2018-01-13             0.0                26.0        39.616153   \n",
       "2018-01-14             0.0                28.0        42.663549   \n",
       "2018-01-15             5.0                82.0       124.943252   \n",
       "\n",
       "                   exp_arabic_rate exp_german_rate exp_spanish_conv  \\\n",
       "language_preferred                                                    \n",
       "date_served                                                           \n",
       "2018-01-11              106.658874      152.781630         6.826168   \n",
       "2018-01-12               95.231137      136.412169         4.190170   \n",
       "2018-01-13               99.040383      141.868656         6.734746   \n",
       "2018-01-14              106.658874      152.781630         5.119626   \n",
       "2018-01-15              312.358130      447.431915        26.238083   \n",
       "\n",
       "                   exp_arabic_conv exp_german_conv  \n",
       "language_preferred                                  \n",
       "date_served                                         \n",
       "2018-01-11                9.599299        3.055633  \n",
       "2018-01-12                3.809245        5.456487  \n",
       "2018-01-13                7.923231        7.093433  \n",
       "2018-01-14                5.332944        4.583449  \n",
       "2018-01-15               18.741488       49.217511  "
      ]
     },
     "execution_count": 201,
     "metadata": {},
     "output_type": "execute_result"
    }
   ],
   "source": [
    "lang_conversion['exp_spanish_conv'] = \\\n",
    "lang_conversion['exp_spanish_rate'] / 100\\\n",
    "* lang_conversion[('user_id', 'Spanish')]\n",
    "\n",
    "lang_conversion['exp_arabic_conv'] = \\\n",
    "lang_conversion['exp_arabic_rate'] / 100\\\n",
    "* lang_conversion[('user_id', 'Arabic')]\n",
    "\n",
    "lang_conversion['exp_german_conv'] = \\\n",
    "lang_conversion['exp_german_rate'] / 100\\\n",
    "* lang_conversion[('user_id', 'German')]\n",
    "\n",
    "lang_conversion.head()"
   ]
  },
  {
   "cell_type": "code",
   "execution_count": 203,
   "id": "25218ca8",
   "metadata": {},
   "outputs": [
    {
     "name": "stdout",
     "output_type": "stream",
     "text": [
      "614.4382972685759\n",
      "76.0\n",
      "Expected lost conversion rate: 538.4382972685759\n"
     ]
    }
   ],
   "source": [
    "# sum expecteed subscribers for each language\n",
    "expected_subs = lang_conversion['exp_spanish_conv'].agg('sum') +\\\n",
    "lang_conversion['exp_arabic_conv'].agg('sum') +\\\n",
    "lang_conversion['exp_german_conv'].agg('sum') \n",
    "\n",
    "print(expected_subs)\n",
    "\n",
    "# calculate how many subscribers we actually got\n",
    "actual_subs = lang_conversion[('converted', 'Spanish')].agg('sum')+\\\n",
    "lang_conversion[('converted', 'Arabic')].agg('sum') +\\\n",
    "lang_conversion[('converted', 'German')].agg('sum')\n",
    "\n",
    "print(actual_subs)\n",
    "\n",
    "lost_subs = expected_subs - actual_subs\n",
    "print('Expected lost conversion rate:', lost_subs)"
   ]
  },
  {
   "cell_type": "markdown",
   "id": "d580bdce",
   "metadata": {},
   "source": [
    "**House ads conversion rate**"
   ]
  },
  {
   "cell_type": "code",
   "execution_count": 207,
   "id": "05decef5",
   "metadata": {},
   "outputs": [
    {
     "name": "stdout",
     "output_type": "stream",
     "text": [
      "date_served  marketing_channel\n",
      "2018-01-01   Email                1.000000\n",
      "             Facebook             0.117647\n",
      "             House Ads            0.084656\n",
      "             Instagram            0.106667\n",
      "             Push                 0.083333\n",
      "Name: user_id, dtype: float64\n"
     ]
    }
   ],
   "source": [
    "# Calculate conversion rate by date served and channel\n",
    "daily_conv_channel = conversion_rate(mkt, ['date_served', 'marketing_channel'])\n",
    "\n",
    "print(daily_conv_channel.head())"
   ]
  },
  {
   "cell_type": "code",
   "execution_count": 208,
   "id": "65378279",
   "metadata": {},
   "outputs": [
    {
     "data": {
      "image/png": "[encoded data removed]",
      "text/plain": [
       "<Figure size 432x288 with 1 Axes>"
      ]
     },
     "metadata": {
      "needs_background": "light"
     },
     "output_type": "display_data"
    }
   ],
   "source": [
    "# Calculate conversion rate by date served and channel\n",
    "daily_conv_channel = conversion_rate(mkt, ['date_served', \n",
    "                                                 'marketing_channel'])\n",
    "\n",
    "# Unstack daily_conv_channel and convert it to a DataFrame\n",
    "daily_conv_channel = pd.DataFrame(daily_conv_channel.unstack(level = 1))\n",
    "\n",
    "# Plot results of daily_conv_channel\n",
    "daily_conv_channel.plot()\n",
    "plt.show()"
   ]
  },
  {
   "cell_type": "code",
   "execution_count": 209,
   "id": "b881f48a",
   "metadata": {},
   "outputs": [
    {
     "data": {
      "image/png": "[encoded data removed]",
      "text/plain": [
       "<Figure size 432x288 with 1 Axes>"
      ]
     },
     "metadata": {
      "needs_background": "light"
     },
     "output_type": "display_data"
    }
   ],
   "source": [
    "# Add day of week column to marketing\n",
    "mkt['DoW_served'] = mkt['date_served'].dt.dayofweek\n",
    "\n",
    "# Calculate conversion rate by day of week\n",
    "DoW_conversion = conversion_rate(mkt, ['DoW_served', 'marketing_channel'])\n",
    "\n",
    "\n",
    "# Unstack channels\n",
    "DoW_df = pd.DataFrame(DoW_conversion.unstack(level=1))\n",
    "\n",
    "# Plot conversion rate by day of week\n",
    "DoW_df.plot()\n",
    "plt.title('Conversion rate by day of week\\n')\n",
    "plt.ylim(0)\n",
    "plt.show()"
   ]
  },
  {
   "cell_type": "code",
   "execution_count": 211,
   "id": "f868f7af",
   "metadata": {},
   "outputs": [
    {
     "data": {
      "image/png": "[encoded data removed]",
      "text/plain": [
       "<Figure size 432x288 with 1 Axes>"
      ]
     },
     "metadata": {
      "needs_background": "light"
     },
     "output_type": "display_data"
    },
    {
     "data": {
      "image/png": "[encoded data removed]",
      "text/plain": [
       "<Figure size 432x288 with 1 Axes>"
      ]
     },
     "metadata": {
      "needs_background": "light"
     },
     "output_type": "display_data"
    },
    {
     "data": {
      "image/png": "[encoded data removed]",
      "text/plain": [
       "<Figure size 432x288 with 1 Axes>"
      ]
     },
     "metadata": {
      "needs_background": "light"
     },
     "output_type": "display_data"
    },
    {
     "data": {
      "image/png": "[encoded data removed]",
      "text/plain": [
       "<Figure size 432x288 with 1 Axes>"
      ]
     },
     "metadata": {
      "needs_background": "light"
     },
     "output_type": "display_data"
    }
   ],
   "source": [
    "# House ads conversion by language\n",
    "# Isolate the rows where marketing channel is House Ads\n",
    "house_ads = mkt[mkt['marketing_channel'] == 'House Ads']\n",
    "\n",
    "# Calculate conversion by date served, and language displayed\n",
    "conv_lang_channel = conversion_rate(house_ads, ['date_served','language_displayed'])\n",
    "\n",
    "# Unstack conv_lang_channel\n",
    "conv_lang_df = pd.DataFrame(conv_lang_channel.unstack(level=1))\n",
    "\n",
    "# Use your plotting function to display results\n",
    "trend_plot(conv_lang_df)"
   ]
  },
  {
   "cell_type": "code",
   "execution_count": 214,
   "id": "54443ebe",
   "metadata": {},
   "outputs": [
    {
     "name": "stdout",
     "output_type": "stream",
     "text": [
      "is_correct_lang   No    Yes\n",
      "date_served                \n",
      "2018-01-01       2.0  189.0\n",
      "2018-01-02       3.0  247.0\n",
      "2018-01-03       0.0  220.0\n",
      "2018-01-04       0.0  168.0\n",
      "2018-01-05       0.0  160.0\n"
     ]
    },
    {
     "name": "stderr",
     "output_type": "stream",
     "text": [
      "C:\\Users\\QXJ\\AppData\\Local\\Temp\\ipykernel_2688\\894601515.py:2: SettingWithCopyWarning: \n",
      "A value is trying to be set on a copy of a slice from a DataFrame.\n",
      "Try using .loc[row_indexer,col_indexer] = value instead\n",
      "\n",
      "See the caveats in the documentation: https://pandas.pydata.org/pandas-docs/stable/user_guide/indexing.html#returning-a-view-versus-a-copy\n",
      "  house_ads['is_correct_lang'] = np.where(\n"
     ]
    }
   ],
   "source": [
    "# Creating a DataFrame for house ads\n",
    "# Add the new column is_correct_lang\n",
    "house_ads['is_correct_lang'] = np.where(\n",
    "    house_ads['language_displayed'] == house_ads['language_preferred'], \n",
    "    'Yes', \n",
    "    'No')\n",
    "\n",
    "# Groupby date_served and correct_language\n",
    "language_check = house_ads.groupby(['date_served','is_correct_lang'])['marketing_channel'].count()\n",
    "\n",
    "# Unstack language_check and fill missing values with 0's\n",
    "language_check_df = pd.DataFrame(language_check.unstack(level=1)).fillna(0)\n",
    "\n",
    "# Print results\n",
    "print(language_check_df.head())"
   ]
  },
  {
   "cell_type": "code",
   "execution_count": 216,
   "id": "24fdd598",
   "metadata": {},
   "outputs": [
    {
     "data": {
      "image/png": "[encoded data removed]",
      "text/plain": [
       "<Figure size 432x288 with 1 Axes>"
      ]
     },
     "metadata": {
      "needs_background": "light"
     },
     "output_type": "display_data"
    }
   ],
   "source": [
    "# confirming house ads error\n",
    "# Divide the count where language is correct by the row sum\n",
    "language_check_df['pct'] = language_check_df['Yes']/(language_check_df['Yes'] + language_check_df['No'])\n",
    "\n",
    "# Plot and show your results\n",
    "plt.plot(language_check_df.index.values, language_check_df['pct'])\n",
    "plt.xticks(rotation = 30)\n",
    "plt.show()"
   ]
  },
  {
   "cell_type": "markdown",
   "id": "9f2fd1c8",
   "metadata": {},
   "source": [
    "**Setting up conversion indexes**"
   ]
  },
  {
   "cell_type": "code",
   "execution_count": 217,
   "id": "5ca37653",
   "metadata": {},
   "outputs": [
    {
     "name": "stdout",
     "output_type": "stream",
     "text": [
      "Spanish index: 1.5236981934112646\n",
      "Arabic index: 3.8092454835281613\n",
      "German index: 5.456486773702502\n"
     ]
    }
   ],
   "source": [
    "# Calculate pre-error conversion rate\n",
    "house_ads_bug = house_ads[house_ads['date_served'] < '2018-01-11']\n",
    "lang_conv = conversion_rate(house_ads_bug, 'language_displayed')\n",
    "\n",
    "\n",
    "# Index other language conversion rate against English\n",
    "spanish_index = lang_conv['Spanish'] /lang_conv['English']\n",
    "arabic_index = lang_conv['Arabic']/lang_conv['English']\n",
    "german_index = lang_conv['German'] /lang_conv['English']\n",
    "\n",
    "print(\"Spanish index:\", spanish_index)\n",
    "print(\"Arabic index:\", arabic_index)\n",
    "print(\"German index:\", german_index)"
   ]
  },
  {
   "cell_type": "code",
   "execution_count": 221,
   "id": "07f948e3",
   "metadata": {},
   "outputs": [
    {
     "data": {
      "text/html": [
       "<div>\n",
       "<style scoped>\n",
       "    .dataframe tbody tr th:only-of-type {\n",
       "        vertical-align: middle;\n",
       "    }\n",
       "\n",
       "    .dataframe tbody tr th {\n",
       "        vertical-align: top;\n",
       "    }\n",
       "\n",
       "    .dataframe thead tr th {\n",
       "        text-align: left;\n",
       "    }\n",
       "\n",
       "    .dataframe thead tr:last-of-type th {\n",
       "        text-align: right;\n",
       "    }\n",
       "</style>\n",
       "<table border=\"1\" class=\"dataframe\">\n",
       "  <thead>\n",
       "    <tr>\n",
       "      <th></th>\n",
       "      <th colspan=\"4\" halign=\"left\">user_id</th>\n",
       "      <th colspan=\"4\" halign=\"left\">converted</th>\n",
       "    </tr>\n",
       "    <tr>\n",
       "      <th>language_preferred</th>\n",
       "      <th>Arabic</th>\n",
       "      <th>English</th>\n",
       "      <th>German</th>\n",
       "      <th>Spanish</th>\n",
       "      <th>Arabic</th>\n",
       "      <th>English</th>\n",
       "      <th>German</th>\n",
       "      <th>Spanish</th>\n",
       "    </tr>\n",
       "    <tr>\n",
       "      <th>date_served</th>\n",
       "      <th></th>\n",
       "      <th></th>\n",
       "      <th></th>\n",
       "      <th></th>\n",
       "      <th></th>\n",
       "      <th></th>\n",
       "      <th></th>\n",
       "      <th></th>\n",
       "    </tr>\n",
       "  </thead>\n",
       "  <tbody>\n",
       "    <tr>\n",
       "      <th>2018-01-01</th>\n",
       "      <td>2.0</td>\n",
       "      <td>171.0</td>\n",
       "      <td>5.0</td>\n",
       "      <td>11.0</td>\n",
       "      <td>2.0</td>\n",
       "      <td>13.0</td>\n",
       "      <td>1.0</td>\n",
       "      <td>0.0</td>\n",
       "    </tr>\n",
       "    <tr>\n",
       "      <th>2018-01-02</th>\n",
       "      <td>3.0</td>\n",
       "      <td>200.0</td>\n",
       "      <td>5.0</td>\n",
       "      <td>10.0</td>\n",
       "      <td>0.0</td>\n",
       "      <td>14.0</td>\n",
       "      <td>3.0</td>\n",
       "      <td>0.0</td>\n",
       "    </tr>\n",
       "    <tr>\n",
       "      <th>2018-01-03</th>\n",
       "      <td>2.0</td>\n",
       "      <td>179.0</td>\n",
       "      <td>3.0</td>\n",
       "      <td>8.0</td>\n",
       "      <td>0.0</td>\n",
       "      <td>15.0</td>\n",
       "      <td>1.0</td>\n",
       "      <td>1.0</td>\n",
       "    </tr>\n",
       "    <tr>\n",
       "      <th>2018-01-04</th>\n",
       "      <td>2.0</td>\n",
       "      <td>149.0</td>\n",
       "      <td>2.0</td>\n",
       "      <td>14.0</td>\n",
       "      <td>0.0</td>\n",
       "      <td>12.0</td>\n",
       "      <td>0.0</td>\n",
       "      <td>3.0</td>\n",
       "    </tr>\n",
       "    <tr>\n",
       "      <th>2018-01-05</th>\n",
       "      <td>NaN</td>\n",
       "      <td>143.0</td>\n",
       "      <td>1.0</td>\n",
       "      <td>14.0</td>\n",
       "      <td>NaN</td>\n",
       "      <td>17.0</td>\n",
       "      <td>0.0</td>\n",
       "      <td>3.0</td>\n",
       "    </tr>\n",
       "  </tbody>\n",
       "</table>\n",
       "</div>"
      ],
      "text/plain": [
       "                   user_id                        converted                 \\\n",
       "language_preferred  Arabic English German Spanish    Arabic English German   \n",
       "date_served                                                                  \n",
       "2018-01-01             2.0   171.0    5.0    11.0       2.0    13.0    1.0   \n",
       "2018-01-02             3.0   200.0    5.0    10.0       0.0    14.0    3.0   \n",
       "2018-01-03             2.0   179.0    3.0     8.0       0.0    15.0    1.0   \n",
       "2018-01-04             2.0   149.0    2.0    14.0       0.0    12.0    0.0   \n",
       "2018-01-05             NaN   143.0    1.0    14.0       NaN    17.0    0.0   \n",
       "\n",
       "                            \n",
       "language_preferred Spanish  \n",
       "date_served                 \n",
       "2018-01-01             0.0  \n",
       "2018-01-02             0.0  \n",
       "2018-01-03             1.0  \n",
       "2018-01-04             3.0  \n",
       "2018-01-05             3.0  "
      ]
     },
     "execution_count": 221,
     "metadata": {},
     "output_type": "execute_result"
    }
   ],
   "source": [
    "# analyzing user preferences\n",
    "# Group house_ads by date and language\n",
    "converted = house_ads.groupby(['date_served','language_preferred'])\\\n",
    "                        .agg({'user_id':'nunique',\n",
    "                              'converted':'sum'})\n",
    "\n",
    "# Unstack converted\n",
    "converted_df = pd.DataFrame(converted.unstack(level = 1))\n",
    "\n",
    "converted_df.head()"
   ]
  },
  {
   "cell_type": "code",
   "execution_count": 225,
   "id": "ef3ec793",
   "metadata": {},
   "outputs": [],
   "source": [
    "# Creating a DataFrame based on indexes\n",
    "# Create English conversion rate column for affected period\n",
    "converted_df['english_conv_rate'] = converted_df.loc['2018-01-11' : '2018-01-31']\\\n",
    "[('converted','English')]\n",
    "\n",
    "\n",
    "# Create expected conversion rates for each language\n",
    "converted_df['expected_spanish_rate'] =spanish_index * converted_df['english_conv_rate'] \n",
    "converted_df['expected_arabic_rate'] = arabic_index * converted_df['english_conv_rate'] \n",
    "converted_df['expected_german_rate'] = german_index * converted_df['english_conv_rate'] \n",
    "\n",
    "# Multiply number of users by the expected conversion rate\n",
    "converted_df['expected_spanish_conv'] = converted_df['expected_spanish_rate']\\\n",
    "* converted_df[('user_id','Spanish')] /100\n",
    "converted_df['expected_arabic_conv'] = converted_df['expected_arabic_rate']\\\n",
    "* converted_df[('user_id','Arabic')] /100\n",
    "converted_df['expected_german_conv'] = converted_df['expected_german_rate']\\\n",
    "* converted_df[('user_id','German')] /100"
   ]
  },
  {
   "cell_type": "code",
   "execution_count": 226,
   "id": "18e8b2a2",
   "metadata": {},
   "outputs": [
    {
     "name": "stdout",
     "output_type": "stream",
     "text": [
      "28.4409128299394\n"
     ]
    }
   ],
   "source": [
    "# assessing bug impact\n",
    "# Use .loc to slice only the relevant dates\n",
    "converted_df = converted_df.loc['2018-01-11':'2018-01-31']\n",
    "\n",
    "# Sum expected subscribers for each language\n",
    "expected_subs = converted_df['expected_spanish_conv'].sum()\\\n",
    "+ converted_df['expected_arabic_conv'].sum()\\\n",
    "+ converted_df['expected_german_conv'].sum()\n",
    "\n",
    "# Calculate how many subscribers we actually got\n",
    "actual_subs = converted_df[('converted','Spanish')].sum()\\\n",
    "+ converted_df[('converted','Arabic')].sum()\\\n",
    "+ converted_df[('converted','German')].sum()\n",
    "\n",
    "# Subtract how many subscribers we got despite the bug\n",
    "lost_subs = expected_subs - actual_subs\n",
    "print(lost_subs)"
   ]
  },
  {
   "cell_type": "markdown",
   "id": "3f7e3f41",
   "metadata": {},
   "source": [
    "## A/B test\n",
    "\n",
    "<br>\n",
    "\n",
    "*Prior to running the test determine:*\n",
    "\n",
    "- What is the desired outcome of the test? what is our hypothesis? \n",
    "- What is the metric we are trying to impact? (i.e: page view, conversoin)? \n",
    "- Will we get enough traffic to our site to reach statistical siginificane and make a decision in a timely manner?"
   ]
  },
  {
   "cell_type": "markdown",
   "id": "8bf679b7",
   "metadata": {},
   "source": [
    "*A/B test: half of emails are generoc upsells to our product whiel the other half contanied personalized messaging around individual usage of our site*"
   ]
  },
  {
   "cell_type": "markdown",
   "id": "1a4a69bc",
   "metadata": {},
   "source": [
    "**Step I: check if the test was run proporply ?**"
   ]
  },
  {
   "cell_type": "code",
   "execution_count": 231,
   "id": "637eb7b8",
   "metadata": {},
   "outputs": [
    {
     "name": "stdout",
     "output_type": "stream",
     "text": [
      "variant\n",
      "control            270\n",
      "personalization    284\n",
      "Name: user_id, dtype: int64\n"
     ]
    },
    {
     "data": {
      "image/png": "[encoded data removed]",
      "text/plain": [
       "<Figure size 432x288 with 1 Axes>"
      ]
     },
     "metadata": {
      "needs_background": "light"
     },
     "output_type": "display_data"
    }
   ],
   "source": [
    "allocation = mkt[mkt['marketing_channel'] == 'Email']\\\n",
    ".groupby(['variant'])['user_id'].nunique()\n",
    "print(allocation)\n",
    "allocation.plot(kind = 'bar')\n",
    "plt.xticks(rotation = 0)\n",
    "plt.show()\n",
    "# there is statistical test to check if the difference is due to random chance"
   ]
  },
  {
   "cell_type": "code",
   "execution_count": 5,
   "id": "e735f55f",
   "metadata": {},
   "outputs": [
    {
     "data": {
      "text/html": [
       "<div>\n",
       "<style scoped>\n",
       "    .dataframe tbody tr th:only-of-type {\n",
       "        vertical-align: middle;\n",
       "    }\n",
       "\n",
       "    .dataframe tbody tr th {\n",
       "        vertical-align: top;\n",
       "    }\n",
       "\n",
       "    .dataframe thead th {\n",
       "        text-align: right;\n",
       "    }\n",
       "</style>\n",
       "<table border=\"1\" class=\"dataframe\">\n",
       "  <thead>\n",
       "    <tr style=\"text-align: right;\">\n",
       "      <th>variant</th>\n",
       "      <th>control</th>\n",
       "      <th>personalization</th>\n",
       "    </tr>\n",
       "    <tr>\n",
       "      <th>user_id</th>\n",
       "      <th></th>\n",
       "      <th></th>\n",
       "    </tr>\n",
       "  </thead>\n",
       "  <tbody>\n",
       "    <tr>\n",
       "      <th>a100000526</th>\n",
       "      <td>NaN</td>\n",
       "      <td>True</td>\n",
       "    </tr>\n",
       "    <tr>\n",
       "      <th>a100000530</th>\n",
       "      <td>NaN</td>\n",
       "      <td>True</td>\n",
       "    </tr>\n",
       "    <tr>\n",
       "      <th>a100000534</th>\n",
       "      <td>NaN</td>\n",
       "      <td>False</td>\n",
       "    </tr>\n",
       "    <tr>\n",
       "      <th>a100000538</th>\n",
       "      <td>NaN</td>\n",
       "      <td>True</td>\n",
       "    </tr>\n",
       "    <tr>\n",
       "      <th>a100000542</th>\n",
       "      <td>NaN</td>\n",
       "      <td>True</td>\n",
       "    </tr>\n",
       "    <tr>\n",
       "      <th>...</th>\n",
       "      <td>...</td>\n",
       "      <td>...</td>\n",
       "    </tr>\n",
       "    <tr>\n",
       "      <th>a100007288</th>\n",
       "      <td>True</td>\n",
       "      <td>NaN</td>\n",
       "    </tr>\n",
       "    <tr>\n",
       "      <th>a100007289</th>\n",
       "      <td>True</td>\n",
       "      <td>NaN</td>\n",
       "    </tr>\n",
       "    <tr>\n",
       "      <th>a100007290</th>\n",
       "      <td>True</td>\n",
       "      <td>NaN</td>\n",
       "    </tr>\n",
       "    <tr>\n",
       "      <th>a100007291</th>\n",
       "      <td>True</td>\n",
       "      <td>NaN</td>\n",
       "    </tr>\n",
       "    <tr>\n",
       "      <th>a100007293</th>\n",
       "      <td>True</td>\n",
       "      <td>NaN</td>\n",
       "    </tr>\n",
       "  </tbody>\n",
       "</table>\n",
       "<p>553 rows × 2 columns</p>\n",
       "</div>"
      ],
      "text/plain": [
       "variant    control personalization\n",
       "user_id                           \n",
       "a100000526     NaN            True\n",
       "a100000530     NaN            True\n",
       "a100000534     NaN           False\n",
       "a100000538     NaN            True\n",
       "a100000542     NaN            True\n",
       "...            ...             ...\n",
       "a100007288    True             NaN\n",
       "a100007289    True             NaN\n",
       "a100007290    True             NaN\n",
       "a100007291    True             NaN\n",
       "a100007293    True             NaN\n",
       "\n",
       "[553 rows x 2 columns]"
      ]
     },
     "execution_count": 5,
     "metadata": {},
     "output_type": "execute_result"
    }
   ],
   "source": [
    "# group by user_id and variant\n",
    "email = mkt[mkt['marketing_channel'] == 'Email']\n",
    "subscribers = email.groupby(['user_id', 'variant'])['converted'].max()\n",
    "sub = pd.DataFrame(subscribers.unstack(level = 1))\n",
    "sub"
   ]
  },
  {
   "cell_type": "code",
   "execution_count": 6,
   "id": "4d40ea0e",
   "metadata": {},
   "outputs": [],
   "source": [
    "# create individual series of control and personalization\n",
    "control = sub['control'].dropna()\n",
    "personalization = sub['personalization'].dropna()"
   ]
  },
  {
   "cell_type": "code",
   "execution_count": 7,
   "id": "2fe7e83f",
   "metadata": {},
   "outputs": [
    {
     "name": "stdout",
     "output_type": "stream",
     "text": [
      "Control conversion rate: 0.2814814814814815\n",
      "Personalization conversion rate: 0.3908450704225352\n"
     ]
    }
   ],
   "source": [
    "# calculate conversion rate\n",
    "print('Control conversion rate:', np.mean(control))\n",
    "print('Personalization conversion rate:', np.mean(personalization))"
   ]
  },
  {
   "cell_type": "markdown",
   "id": "4ffae1f3",
   "metadata": {},
   "source": [
    "**Step II: calculating lift & significance testing**\n",
    "- Lift: (treatment conversion rate - control conversion rate) / control conversion rate \n",
    "- statistical significance"
   ]
  },
  {
   "cell_type": "code",
   "execution_count": 9,
   "id": "69924522",
   "metadata": {},
   "outputs": [
    {
     "name": "stdout",
     "output_type": "stream",
     "text": [
      "lift: 38.85 %\n"
     ]
    }
   ],
   "source": [
    "# calculate lift \n",
    "a_mean = np.mean(control)\n",
    "b_mean = np.mean(personalization)\n",
    "\n",
    "lift = (b_mean - a_mean)/a_mean\n",
    "print('lift:', round(lift*100,2), '%')"
   ]
  },
  {
   "cell_type": "code",
   "execution_count": 11,
   "id": "890538f4",
   "metadata": {},
   "outputs": [
    {
     "name": "stdout",
     "output_type": "stream",
     "text": [
      "Ttest_indResult(statistic=-2.7343299447505074, pvalue=0.006451487844694175)\n"
     ]
    }
   ],
   "source": [
    "# calculate statistical significance \n",
    "from scipy.stats import ttest_ind\n",
    "t = ttest_ind(control, personalization)\n",
    "print(t)\n",
    "# the difference id statistical significant"
   ]
  },
  {
   "cell_type": "markdown",
   "id": "7546af96",
   "metadata": {},
   "source": [
    "**Pitfall: A/B test and segementation**\n"
   ]
  },
  {
   "cell_type": "code",
   "execution_count": null,
   "id": "46d1ef96",
   "metadata": {},
   "outputs": [],
   "source": [
    "# calculate lift and statistical significance across multiple segments of users"
   ]
  },
  {
   "cell_type": "code",
   "execution_count": 10,
   "id": "10edadd9",
   "metadata": {},
   "outputs": [
    {
     "name": "stdout",
     "output_type": "stream",
     "text": [
      "Arabic\n",
      "lift: 50.0 %\n",
      "Ttest_indResult(statistic=-0.5773502691896255, pvalue=0.5795840000000001)\n",
      "English\n",
      "lift: 39.0 %\n",
      "Ttest_indResult(statistic=-2.2183598646203166, pvalue=0.026991701290720815)\n",
      "German\n",
      "lift: -1.62 %\n",
      "Ttest_indResult(statistic=0.1910083418078718, pvalue=0.8494394170062678)\n",
      "Spanish\n",
      "lift: 166.67 %\n",
      "Ttest_indResult(statistic=-2.3570226039551585, pvalue=0.040156718110477524)\n"
     ]
    }
   ],
   "source": [
    "for lang in np.unique(mkt['language_displayed'].values):\n",
    "    print(lang)\n",
    "    \n",
    "    lang_data = mkt[(mkt['marketing_channel'] == 'Email')\\\n",
    "                    & (mkt['language_displayed'] == lang)]\n",
    "    \n",
    "    subscribers = lang_data.groupby(['user_id', 'variant'])['converted'].max()\n",
    "    sub = pd.DataFrame(subscribers.unstack(level = 1))\n",
    "    \n",
    "    control = sub['control'].dropna()\n",
    "    personalization = sub['personalization'].dropna()\n",
    "    \n",
    "    a = np.mean(control)\n",
    "    b = np.mean(personalization)\n",
    "    lift = (b-a)/a\n",
    "    print('lift:', round(lift*100,2), '%')\n",
    "    t = ttest_ind(control, personalization)\n",
    "    print(t)\n",
    "    "
   ]
  },
  {
   "cell_type": "code",
   "execution_count": 12,
   "id": "6a68683f",
   "metadata": {},
   "outputs": [
    {
     "name": "stdout",
     "output_type": "stream",
     "text": [
      "0-18 years\n",
      "lift: 375.5 %\n",
      "Ttest_indResult(statistic=-4.79410440267648, pvalue=2.779301009264944e-06)\n",
      "19-24 years\n",
      "lift: 641.02 %\n",
      "Ttest_indResult(statistic=-6.703745552570057, pvalue=8.703172251371585e-11)\n",
      "24-30 years\n",
      "lift: 742.33 %\n",
      "Ttest_indResult(statistic=-6.302856383162445, pvalue=1.0980286291676167e-09)\n",
      "30-36 years\n",
      "lift: 19.27 %\n",
      "Ttest_indResult(statistic=-0.3876647512083575, pvalue=0.6986120802081497)\n",
      "36-45 years\n",
      "lift: -29.53 %\n",
      "Ttest_indResult(statistic=0.6341709097448146, pvalue=0.5266434462898644)\n",
      "45-55 years\n",
      "lift: -6.17 %\n",
      "Ttest_indResult(statistic=0.09606018010960825, pvalue=0.9235398169400137)\n",
      "55+ years\n",
      "lift: -8.55 %\n",
      "Ttest_indResult(statistic=0.18071675257359116, pvalue=0.8568014395949484)\n"
     ]
    }
   ],
   "source": [
    "from scipy.stats import ttest_ind\n",
    "def mkt_channel_result(df,col, mkt_channel):\n",
    "    \"\"\"return the lift and statistical sigfinicance about the A/B test of a certain marketing channel \"\"\"\n",
    "    for val in np.unique(df[col].values):\n",
    "        print(val)\n",
    "        \n",
    "        val_df = df[(df['marketing_channel'] == mkt_channel)\\\n",
    "        & (df[col] == val)]\n",
    "        \n",
    "        subscribers = val_df.groupby(['user_id','variant'])['converted'].max()\n",
    "        sub = pd.DataFrame(subscribers.unstack(level = 1))\n",
    "        \n",
    "        control = sub['control'].dropna()\n",
    "        personalization = sub['personalization'].dropna()\n",
    "        \n",
    "        a = np.mean(control)\n",
    "        b = np.mean(personalization)\n",
    "        lift = (b-a)/a\n",
    "        print('lift:', round(lift*100,2), '%')\n",
    "        t = ttest_ind(control, personalization)\n",
    "        print(t)\n",
    "        \n",
    "mkt_channel_result(mkt, 'age_group', 'Facebook')\n",
    "    "
   ]
  },
  {
   "cell_type": "code",
   "execution_count": null,
   "id": "9327b55c",
   "metadata": {},
   "outputs": [],
   "source": []
  }
 ],
 "metadata": {
  "kernelspec": {
   "display_name": "Python 3 (ipykernel)",
   "language": "python",
   "name": "python3"
  },
  "language_info": {
   "codemirror_mode": {
    "name": "ipython",
    "version": 3
   },
   "file_extension": ".py",
   "mimetype": "text/x-python",
   "name": "python",
   "nbconvert_exporter": "python",
   "pygments_lexer": "ipython3",
   "version": "3.9.12"
  }
 },
 "nbformat": 4,
 "nbformat_minor": 5
}
